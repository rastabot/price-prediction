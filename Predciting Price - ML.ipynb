{
 "cells": [
  {
   "cell_type": "markdown",
   "metadata": {},
   "source": [
    "https://platform.stratascratch.com/data-projects/predicting-price"
   ]
  },
  {
   "cell_type": "markdown",
   "metadata": {},
   "source": [
    "Assignment\n",
    "The target variable is price. You have 7 attributes and obviously we want you to build some initial ML model which predicts the prices.\n",
    "\n",
    "1. Make some initial data analysis, which will hint to some stuctures in the data and how attributes are connected.\n",
    "2. Fit some ML model(s) and explain briefly your choices.\n",
    "3. Show with some X-validation the power of your model and comment the results.\n",
    "4. Present us the results and the steps you have taken and also with some critical thinking and next steps."
   ]
  },
  {
   "cell_type": "markdown",
   "metadata": {},
   "source": [
    "## Make sure that the solution reflects your entire thought process - it is more important how the code is structured rather than the final metrics. You are expected to spend no more than 4 hours working on this project."
   ]
  },
  {
   "cell_type": "code",
   "execution_count": 67,
   "metadata": {},
   "outputs": [],
   "source": [
    "# Loading all the libraries\n",
    "import pandas as pd\n",
    "import numpy as np\n",
    "import seaborn as sns\n",
    "import matplotlib.pyplot as plt\n",
    "import scipy\n",
    "from scipy import stats as st\n",
    "import sidetable\n",
    "%matplotlib inline\n",
    "\n",
    "import seaborn as sns\n",
    "import matplotlib.pyplot as plt\n",
    "import plotly.express as px\n",
    "from plotly import graph_objects as go \n",
    "from datetime import datetime as dt\n",
    "import datetime\n",
    "import datetime as dt\n",
    "\n",
    "pd.set_option('max_colwidth', 0)\n",
    "from IPython.core.interactiveshell import InteractiveShell\n",
    "InteractiveShell.ast_node_interactivity = \"all\"\n",
    "\n",
    "\n",
    "import math as mth\n",
    "np.warnings.filterwarnings('ignore')"
   ]
  },
  {
   "cell_type": "code",
   "execution_count": 68,
   "metadata": {},
   "outputs": [],
   "source": [
    "from sklearn.model_selection import train_test_split\n",
    "from sklearn.metrics import accuracy_score\n",
    "from sklearn.linear_model import LogisticRegression\n",
    "from sklearn.preprocessing import StandardScaler\n",
    "from sklearn.linear_model import SGDRegressor\n",
    "import sklearn.metrics as skmet\n",
    "from sklearn.metrics import mean_squared_error\n"
   ]
  },
  {
   "cell_type": "code",
   "execution_count": 69,
   "metadata": {},
   "outputs": [],
   "source": [
    "import tensorflow as tf\n",
    "from tensorflow.keras.models import Sequential\n",
    "from tensorflow.keras.layers import Dense\n",
    "from tensorflow.keras.activations import linear, relu, sigmoid\n",
    "from tensorflow.keras.losses import BinaryCrossentropy"
   ]
  },
  {
   "cell_type": "code",
   "execution_count": 70,
   "metadata": {},
   "outputs": [],
   "source": [
    "# Loading the data\n",
    "try:\n",
    "    sample_df = pd.read_csv('sample.csv')   \n",
    "except :\n",
    "    print(\"error loading olist_customers_dataset\")"
   ]
  },
  {
   "cell_type": "code",
   "execution_count": 71,
   "metadata": {},
   "outputs": [
    {
     "data": {
      "text/html": [
       "<div>\n",
       "<style scoped>\n",
       "    .dataframe tbody tr th:only-of-type {\n",
       "        vertical-align: middle;\n",
       "    }\n",
       "\n",
       "    .dataframe tbody tr th {\n",
       "        vertical-align: top;\n",
       "    }\n",
       "\n",
       "    .dataframe thead th {\n",
       "        text-align: right;\n",
       "    }\n",
       "</style>\n",
       "<table border=\"1\" class=\"dataframe\">\n",
       "  <thead>\n",
       "    <tr style=\"text-align: right;\">\n",
       "      <th></th>\n",
       "      <th>loc1</th>\n",
       "      <th>loc2</th>\n",
       "      <th>para1</th>\n",
       "      <th>dow</th>\n",
       "      <th>para2</th>\n",
       "      <th>para3</th>\n",
       "      <th>para4</th>\n",
       "      <th>price</th>\n",
       "    </tr>\n",
       "  </thead>\n",
       "  <tbody>\n",
       "    <tr>\n",
       "      <th>0</th>\n",
       "      <td>0</td>\n",
       "      <td>01</td>\n",
       "      <td>1</td>\n",
       "      <td>Mon</td>\n",
       "      <td>662</td>\n",
       "      <td>3000.0</td>\n",
       "      <td>3.8</td>\n",
       "      <td>73.49</td>\n",
       "    </tr>\n",
       "    <tr>\n",
       "      <th>1</th>\n",
       "      <td>9</td>\n",
       "      <td>99</td>\n",
       "      <td>1</td>\n",
       "      <td>Thu</td>\n",
       "      <td>340</td>\n",
       "      <td>2760.0</td>\n",
       "      <td>9.2</td>\n",
       "      <td>300.00</td>\n",
       "    </tr>\n",
       "    <tr>\n",
       "      <th>2</th>\n",
       "      <td>0</td>\n",
       "      <td>04</td>\n",
       "      <td>0</td>\n",
       "      <td>Mon</td>\n",
       "      <td>16</td>\n",
       "      <td>2700.0</td>\n",
       "      <td>3.0</td>\n",
       "      <td>130.00</td>\n",
       "    </tr>\n",
       "    <tr>\n",
       "      <th>3</th>\n",
       "      <td>4</td>\n",
       "      <td>40</td>\n",
       "      <td>1</td>\n",
       "      <td>Mon</td>\n",
       "      <td>17</td>\n",
       "      <td>12320.0</td>\n",
       "      <td>6.4</td>\n",
       "      <td>365.00</td>\n",
       "    </tr>\n",
       "    <tr>\n",
       "      <th>4</th>\n",
       "      <td>5</td>\n",
       "      <td>50</td>\n",
       "      <td>1</td>\n",
       "      <td>Thu</td>\n",
       "      <td>610</td>\n",
       "      <td>2117.0</td>\n",
       "      <td>10.8</td>\n",
       "      <td>357.50</td>\n",
       "    </tr>\n",
       "  </tbody>\n",
       "</table>\n",
       "</div>"
      ],
      "text/plain": [
       "  loc1 loc2  para1  dow  para2    para3  para4   price\n",
       "0  0    01   1      Mon  662    3000.0   3.8    73.49 \n",
       "1  9    99   1      Thu  340    2760.0   9.2    300.00\n",
       "2  0    04   0      Mon  16     2700.0   3.0    130.00\n",
       "3  4    40   1      Mon  17     12320.0  6.4    365.00\n",
       "4  5    50   1      Thu  610    2117.0   10.8   357.50"
      ]
     },
     "execution_count": 71,
     "metadata": {},
     "output_type": "execute_result"
    }
   ],
   "source": [
    "sample_df.head()"
   ]
  },
  {
   "cell_type": "code",
   "execution_count": 72,
   "metadata": {},
   "outputs": [
    {
     "name": "stdout",
     "output_type": "stream",
     "text": [
      "<class 'pandas.core.frame.DataFrame'>\n",
      "RangeIndex: 10000 entries, 0 to 9999\n",
      "Data columns (total 8 columns):\n",
      " #   Column  Non-Null Count  Dtype  \n",
      "---  ------  --------------  -----  \n",
      " 0   loc1    10000 non-null  object \n",
      " 1   loc2    10000 non-null  object \n",
      " 2   para1   10000 non-null  int64  \n",
      " 3   dow     10000 non-null  object \n",
      " 4   para2   10000 non-null  int64  \n",
      " 5   para3   10000 non-null  float64\n",
      " 6   para4   10000 non-null  float64\n",
      " 7   price   10000 non-null  float64\n",
      "dtypes: float64(3), int64(2), object(3)\n",
      "memory usage: 625.1+ KB\n"
     ]
    }
   ],
   "source": [
    "sample_df.info()"
   ]
  },
  {
   "cell_type": "code",
   "execution_count": 73,
   "metadata": {},
   "outputs": [
    {
     "data": {
      "text/plain": [
       "(10000, 8)"
      ]
     },
     "execution_count": 73,
     "metadata": {},
     "output_type": "execute_result"
    }
   ],
   "source": [
    "sample_df.shape"
   ]
  },
  {
   "cell_type": "code",
   "execution_count": 74,
   "metadata": {},
   "outputs": [],
   "source": [
    "#sns.pairplot(sample_df)"
   ]
  },
  {
   "cell_type": "code",
   "execution_count": 75,
   "metadata": {},
   "outputs": [],
   "source": [
    "# checking loc1 and loc2"
   ]
  },
  {
   "cell_type": "markdown",
   "metadata": {},
   "source": [
    "### loc1 "
   ]
  },
  {
   "cell_type": "code",
   "execution_count": 76,
   "metadata": {},
   "outputs": [
    {
     "data": {
      "text/plain": [
       "12"
      ]
     },
     "execution_count": 76,
     "metadata": {},
     "output_type": "execute_result"
    }
   ],
   "source": [
    "sample_df.loc1.nunique()"
   ]
  },
  {
   "cell_type": "code",
   "execution_count": 77,
   "metadata": {},
   "outputs": [
    {
     "data": {
      "text/plain": [
       "loc1\n",
       "0    1486\n",
       "1    1223\n",
       "2    1607\n",
       "3    945 \n",
       "4    773 \n",
       "5    846 \n",
       "6    620 \n",
       "7    1081\n",
       "8    727 \n",
       "9    690 \n",
       "S    1   \n",
       "T    1   \n",
       "Name: loc1, dtype: int64"
      ]
     },
     "execution_count": 77,
     "metadata": {},
     "output_type": "execute_result"
    }
   ],
   "source": [
    "sample_df.groupby('loc1')['loc1'].count()"
   ]
  },
  {
   "cell_type": "code",
   "execution_count": 78,
   "metadata": {},
   "outputs": [
    {
     "data": {
      "text/html": [
       "<div>\n",
       "<style scoped>\n",
       "    .dataframe tbody tr th:only-of-type {\n",
       "        vertical-align: middle;\n",
       "    }\n",
       "\n",
       "    .dataframe tbody tr th {\n",
       "        vertical-align: top;\n",
       "    }\n",
       "\n",
       "    .dataframe thead th {\n",
       "        text-align: right;\n",
       "    }\n",
       "</style>\n",
       "<table border=\"1\" class=\"dataframe\">\n",
       "  <thead>\n",
       "    <tr style=\"text-align: right;\">\n",
       "      <th></th>\n",
       "      <th>loc1</th>\n",
       "      <th>loc2</th>\n",
       "      <th>para1</th>\n",
       "      <th>dow</th>\n",
       "      <th>para2</th>\n",
       "      <th>para3</th>\n",
       "      <th>para4</th>\n",
       "      <th>price</th>\n",
       "    </tr>\n",
       "  </thead>\n",
       "  <tbody>\n",
       "    <tr>\n",
       "      <th>3026</th>\n",
       "      <td>S</td>\n",
       "      <td>S6</td>\n",
       "      <td>3</td>\n",
       "      <td>Fri</td>\n",
       "      <td>1289</td>\n",
       "      <td>24000.0</td>\n",
       "      <td>13.6</td>\n",
       "      <td>850.0</td>\n",
       "    </tr>\n",
       "  </tbody>\n",
       "</table>\n",
       "</div>"
      ],
      "text/plain": [
       "     loc1 loc2  para1  dow  para2    para3  para4  price\n",
       "3026  S    S6   3      Fri  1289   24000.0  13.6   850.0"
      ]
     },
     "execution_count": 78,
     "metadata": {},
     "output_type": "execute_result"
    }
   ],
   "source": [
    "sample_df[sample_df.loc1 == 'S']"
   ]
  },
  {
   "cell_type": "code",
   "execution_count": 79,
   "metadata": {},
   "outputs": [
    {
     "data": {
      "text/html": [
       "<div>\n",
       "<style scoped>\n",
       "    .dataframe tbody tr th:only-of-type {\n",
       "        vertical-align: middle;\n",
       "    }\n",
       "\n",
       "    .dataframe tbody tr th {\n",
       "        vertical-align: top;\n",
       "    }\n",
       "\n",
       "    .dataframe thead th {\n",
       "        text-align: right;\n",
       "    }\n",
       "</style>\n",
       "<table border=\"1\" class=\"dataframe\">\n",
       "  <thead>\n",
       "    <tr style=\"text-align: right;\">\n",
       "      <th></th>\n",
       "      <th>loc1</th>\n",
       "      <th>loc2</th>\n",
       "      <th>para1</th>\n",
       "      <th>dow</th>\n",
       "      <th>para2</th>\n",
       "      <th>para3</th>\n",
       "      <th>para4</th>\n",
       "      <th>price</th>\n",
       "    </tr>\n",
       "  </thead>\n",
       "  <tbody>\n",
       "    <tr>\n",
       "      <th>5510</th>\n",
       "      <td>T</td>\n",
       "      <td>TS</td>\n",
       "      <td>3</td>\n",
       "      <td>Fri</td>\n",
       "      <td>1472</td>\n",
       "      <td>1600.0</td>\n",
       "      <td>2.0</td>\n",
       "      <td>440.0</td>\n",
       "    </tr>\n",
       "  </tbody>\n",
       "</table>\n",
       "</div>"
      ],
      "text/plain": [
       "     loc1 loc2  para1  dow  para2   para3  para4  price\n",
       "5510  T    TS   3      Fri  1472   1600.0  2.0    440.0"
      ]
     },
     "execution_count": 79,
     "metadata": {},
     "output_type": "execute_result"
    }
   ],
   "source": [
    "sample_df[sample_df.loc1 == 'T']"
   ]
  },
  {
   "cell_type": "markdown",
   "metadata": {},
   "source": [
    "### loc2"
   ]
  },
  {
   "cell_type": "code",
   "execution_count": 80,
   "metadata": {},
   "outputs": [
    {
     "data": {
      "text/plain": [
       "107"
      ]
     },
     "execution_count": 80,
     "metadata": {},
     "output_type": "execute_result"
    }
   ],
   "source": [
    "sample_df.loc2.nunique()"
   ]
  },
  {
   "cell_type": "code",
   "execution_count": 81,
   "metadata": {},
   "outputs": [
    {
     "data": {
      "text/plain": [
       "loc2\n",
       "00    1  \n",
       "01    241\n",
       "02    63 \n",
       "03    100\n",
       "04    180\n",
       "     ... \n",
       "97    88 \n",
       "98    25 \n",
       "99    133\n",
       "S6    1  \n",
       "TS    1  \n",
       "Name: loc2, Length: 107, dtype: int64"
      ]
     },
     "execution_count": 81,
     "metadata": {},
     "output_type": "execute_result"
    }
   ],
   "source": [
    "sample_df.groupby('loc2')['loc2'].count()"
   ]
  },
  {
   "cell_type": "code",
   "execution_count": 82,
   "metadata": {},
   "outputs": [],
   "source": [
    "# how are loc1 and loc2 related"
   ]
  },
  {
   "cell_type": "code",
   "execution_count": 83,
   "metadata": {},
   "outputs": [
    {
     "data": {
      "text/html": [
       "<div>\n",
       "<style scoped>\n",
       "    .dataframe tbody tr th:only-of-type {\n",
       "        vertical-align: middle;\n",
       "    }\n",
       "\n",
       "    .dataframe tbody tr th {\n",
       "        vertical-align: top;\n",
       "    }\n",
       "\n",
       "    .dataframe thead th {\n",
       "        text-align: right;\n",
       "    }\n",
       "</style>\n",
       "<table border=\"1\" class=\"dataframe\">\n",
       "  <thead>\n",
       "    <tr style=\"text-align: right;\">\n",
       "      <th></th>\n",
       "      <th></th>\n",
       "      <th>para1</th>\n",
       "      <th>dow</th>\n",
       "      <th>para2</th>\n",
       "      <th>para3</th>\n",
       "      <th>para4</th>\n",
       "      <th>price</th>\n",
       "    </tr>\n",
       "    <tr>\n",
       "      <th>loc1</th>\n",
       "      <th>loc2</th>\n",
       "      <th></th>\n",
       "      <th></th>\n",
       "      <th></th>\n",
       "      <th></th>\n",
       "      <th></th>\n",
       "      <th></th>\n",
       "    </tr>\n",
       "  </thead>\n",
       "  <tbody>\n",
       "    <tr>\n",
       "      <th rowspan=\"5\" valign=\"top\">0</th>\n",
       "      <th>00</th>\n",
       "      <td>1</td>\n",
       "      <td>1</td>\n",
       "      <td>1</td>\n",
       "      <td>1</td>\n",
       "      <td>1</td>\n",
       "      <td>1</td>\n",
       "    </tr>\n",
       "    <tr>\n",
       "      <th>01</th>\n",
       "      <td>241</td>\n",
       "      <td>241</td>\n",
       "      <td>241</td>\n",
       "      <td>241</td>\n",
       "      <td>241</td>\n",
       "      <td>241</td>\n",
       "    </tr>\n",
       "    <tr>\n",
       "      <th>02</th>\n",
       "      <td>63</td>\n",
       "      <td>63</td>\n",
       "      <td>63</td>\n",
       "      <td>63</td>\n",
       "      <td>63</td>\n",
       "      <td>63</td>\n",
       "    </tr>\n",
       "    <tr>\n",
       "      <th>03</th>\n",
       "      <td>100</td>\n",
       "      <td>100</td>\n",
       "      <td>100</td>\n",
       "      <td>100</td>\n",
       "      <td>100</td>\n",
       "      <td>100</td>\n",
       "    </tr>\n",
       "    <tr>\n",
       "      <th>04</th>\n",
       "      <td>180</td>\n",
       "      <td>180</td>\n",
       "      <td>180</td>\n",
       "      <td>180</td>\n",
       "      <td>180</td>\n",
       "      <td>180</td>\n",
       "    </tr>\n",
       "  </tbody>\n",
       "</table>\n",
       "</div>"
      ],
      "text/plain": [
       "           para1  dow  para2  para3  para4  price\n",
       "loc1 loc2                                        \n",
       "0    00    1      1    1      1      1      1    \n",
       "     01    241    241  241    241    241    241  \n",
       "     02    63     63   63     63     63     63   \n",
       "     03    100    100  100    100    100    100  \n",
       "     04    180    180  180    180    180    180  "
      ]
     },
     "execution_count": 83,
     "metadata": {},
     "output_type": "execute_result"
    }
   ],
   "source": [
    "locs = sample_df.groupby(['loc1','loc2']).count()\n",
    "locs.head()"
   ]
  },
  {
   "cell_type": "code",
   "execution_count": 84,
   "metadata": {},
   "outputs": [
    {
     "data": {
      "text/html": [
       "<div>\n",
       "<style scoped>\n",
       "    .dataframe tbody tr th:only-of-type {\n",
       "        vertical-align: middle;\n",
       "    }\n",
       "\n",
       "    .dataframe tbody tr th {\n",
       "        vertical-align: top;\n",
       "    }\n",
       "\n",
       "    .dataframe thead th {\n",
       "        text-align: right;\n",
       "    }\n",
       "</style>\n",
       "<table border=\"1\" class=\"dataframe\">\n",
       "  <thead>\n",
       "    <tr style=\"text-align: right;\">\n",
       "      <th></th>\n",
       "      <th>loc1</th>\n",
       "      <th>loc2</th>\n",
       "      <th>dow</th>\n",
       "      <th>para2</th>\n",
       "      <th>para3</th>\n",
       "      <th>para4</th>\n",
       "      <th>price</th>\n",
       "    </tr>\n",
       "    <tr>\n",
       "      <th>para1</th>\n",
       "      <th></th>\n",
       "      <th></th>\n",
       "      <th></th>\n",
       "      <th></th>\n",
       "      <th></th>\n",
       "      <th></th>\n",
       "      <th></th>\n",
       "    </tr>\n",
       "  </thead>\n",
       "  <tbody>\n",
       "    <tr>\n",
       "      <th>0</th>\n",
       "      <td>836</td>\n",
       "      <td>836</td>\n",
       "      <td>836</td>\n",
       "      <td>836</td>\n",
       "      <td>836</td>\n",
       "      <td>836</td>\n",
       "      <td>836</td>\n",
       "    </tr>\n",
       "    <tr>\n",
       "      <th>1</th>\n",
       "      <td>7052</td>\n",
       "      <td>7052</td>\n",
       "      <td>7052</td>\n",
       "      <td>7052</td>\n",
       "      <td>7052</td>\n",
       "      <td>7052</td>\n",
       "      <td>7052</td>\n",
       "    </tr>\n",
       "    <tr>\n",
       "      <th>2</th>\n",
       "      <td>268</td>\n",
       "      <td>268</td>\n",
       "      <td>268</td>\n",
       "      <td>268</td>\n",
       "      <td>268</td>\n",
       "      <td>268</td>\n",
       "      <td>268</td>\n",
       "    </tr>\n",
       "    <tr>\n",
       "      <th>3</th>\n",
       "      <td>1613</td>\n",
       "      <td>1613</td>\n",
       "      <td>1613</td>\n",
       "      <td>1613</td>\n",
       "      <td>1613</td>\n",
       "      <td>1613</td>\n",
       "      <td>1613</td>\n",
       "    </tr>\n",
       "    <tr>\n",
       "      <th>4</th>\n",
       "      <td>164</td>\n",
       "      <td>164</td>\n",
       "      <td>164</td>\n",
       "      <td>164</td>\n",
       "      <td>164</td>\n",
       "      <td>164</td>\n",
       "      <td>164</td>\n",
       "    </tr>\n",
       "    <tr>\n",
       "      <th>5</th>\n",
       "      <td>51</td>\n",
       "      <td>51</td>\n",
       "      <td>51</td>\n",
       "      <td>51</td>\n",
       "      <td>51</td>\n",
       "      <td>51</td>\n",
       "      <td>51</td>\n",
       "    </tr>\n",
       "    <tr>\n",
       "      <th>6</th>\n",
       "      <td>6</td>\n",
       "      <td>6</td>\n",
       "      <td>6</td>\n",
       "      <td>6</td>\n",
       "      <td>6</td>\n",
       "      <td>6</td>\n",
       "      <td>6</td>\n",
       "    </tr>\n",
       "    <tr>\n",
       "      <th>7</th>\n",
       "      <td>3</td>\n",
       "      <td>3</td>\n",
       "      <td>3</td>\n",
       "      <td>3</td>\n",
       "      <td>3</td>\n",
       "      <td>3</td>\n",
       "      <td>3</td>\n",
       "    </tr>\n",
       "    <tr>\n",
       "      <th>8</th>\n",
       "      <td>1</td>\n",
       "      <td>1</td>\n",
       "      <td>1</td>\n",
       "      <td>1</td>\n",
       "      <td>1</td>\n",
       "      <td>1</td>\n",
       "      <td>1</td>\n",
       "    </tr>\n",
       "    <tr>\n",
       "      <th>9</th>\n",
       "      <td>2</td>\n",
       "      <td>2</td>\n",
       "      <td>2</td>\n",
       "      <td>2</td>\n",
       "      <td>2</td>\n",
       "      <td>2</td>\n",
       "      <td>2</td>\n",
       "    </tr>\n",
       "    <tr>\n",
       "      <th>13</th>\n",
       "      <td>2</td>\n",
       "      <td>2</td>\n",
       "      <td>2</td>\n",
       "      <td>2</td>\n",
       "      <td>2</td>\n",
       "      <td>2</td>\n",
       "      <td>2</td>\n",
       "    </tr>\n",
       "    <tr>\n",
       "      <th>24</th>\n",
       "      <td>1</td>\n",
       "      <td>1</td>\n",
       "      <td>1</td>\n",
       "      <td>1</td>\n",
       "      <td>1</td>\n",
       "      <td>1</td>\n",
       "      <td>1</td>\n",
       "    </tr>\n",
       "    <tr>\n",
       "      <th>337</th>\n",
       "      <td>1</td>\n",
       "      <td>1</td>\n",
       "      <td>1</td>\n",
       "      <td>1</td>\n",
       "      <td>1</td>\n",
       "      <td>1</td>\n",
       "      <td>1</td>\n",
       "    </tr>\n",
       "  </tbody>\n",
       "</table>\n",
       "</div>"
      ],
      "text/plain": [
       "       loc1  loc2   dow  para2  para3  para4  price\n",
       "para1                                              \n",
       "0      836   836   836   836    836    836    836  \n",
       "1      7052  7052  7052  7052   7052   7052   7052 \n",
       "2      268   268   268   268    268    268    268  \n",
       "3      1613  1613  1613  1613   1613   1613   1613 \n",
       "4      164   164   164   164    164    164    164  \n",
       "5      51    51    51    51     51     51     51   \n",
       "6      6     6     6     6      6      6      6    \n",
       "7      3     3     3     3      3      3      3    \n",
       "8      1     1     1     1      1      1      1    \n",
       "9      2     2     2     2      2      2      2    \n",
       "13     2     2     2     2      2      2      2    \n",
       "24     1     1     1     1      1      1      1    \n",
       "337    1     1     1     1      1      1      1    "
      ]
     },
     "execution_count": 84,
     "metadata": {},
     "output_type": "execute_result"
    }
   ],
   "source": [
    "sample_df.groupby('para1').count()"
   ]
  },
  {
   "cell_type": "code",
   "execution_count": 85,
   "metadata": {},
   "outputs": [],
   "source": [
    "# one hot encoding loc1,loc2,dow, para1"
   ]
  },
  {
   "cell_type": "code",
   "execution_count": 86,
   "metadata": {},
   "outputs": [],
   "source": [
    "loc1_df = pd.get_dummies(sample_df.loc1)"
   ]
  },
  {
   "cell_type": "code",
   "execution_count": 87,
   "metadata": {},
   "outputs": [
    {
     "data": {
      "text/plain": [
       "(10000, 12)"
      ]
     },
     "execution_count": 87,
     "metadata": {},
     "output_type": "execute_result"
    }
   ],
   "source": [
    "loc1_df.shape"
   ]
  },
  {
   "cell_type": "code",
   "execution_count": 88,
   "metadata": {},
   "outputs": [],
   "source": [
    "loc2_df = pd.get_dummies(sample_df.loc2)"
   ]
  },
  {
   "cell_type": "code",
   "execution_count": 89,
   "metadata": {},
   "outputs": [
    {
     "data": {
      "text/plain": [
       "(10000, 107)"
      ]
     },
     "execution_count": 89,
     "metadata": {},
     "output_type": "execute_result"
    }
   ],
   "source": [
    "loc2_df.shape"
   ]
  },
  {
   "cell_type": "code",
   "execution_count": 90,
   "metadata": {},
   "outputs": [],
   "source": [
    "dow_df = pd.get_dummies(sample_df.dow)"
   ]
  },
  {
   "cell_type": "code",
   "execution_count": 91,
   "metadata": {},
   "outputs": [
    {
     "data": {
      "text/plain": [
       "(10000, 7)"
      ]
     },
     "execution_count": 91,
     "metadata": {},
     "output_type": "execute_result"
    }
   ],
   "source": [
    "dow_df.shape"
   ]
  },
  {
   "cell_type": "code",
   "execution_count": 92,
   "metadata": {},
   "outputs": [],
   "source": [
    "para1_df = pd.get_dummies(sample_df.para1)"
   ]
  },
  {
   "cell_type": "code",
   "execution_count": 93,
   "metadata": {},
   "outputs": [
    {
     "data": {
      "text/plain": [
       "(10000, 13)"
      ]
     },
     "execution_count": 93,
     "metadata": {},
     "output_type": "execute_result"
    }
   ],
   "source": [
    "para1_df.shape"
   ]
  },
  {
   "cell_type": "code",
   "execution_count": 94,
   "metadata": {},
   "outputs": [
    {
     "data": {
      "text/html": [
       "<div>\n",
       "<style scoped>\n",
       "    .dataframe tbody tr th:only-of-type {\n",
       "        vertical-align: middle;\n",
       "    }\n",
       "\n",
       "    .dataframe tbody tr th {\n",
       "        vertical-align: top;\n",
       "    }\n",
       "\n",
       "    .dataframe thead th {\n",
       "        text-align: right;\n",
       "    }\n",
       "</style>\n",
       "<table border=\"1\" class=\"dataframe\">\n",
       "  <thead>\n",
       "    <tr style=\"text-align: right;\">\n",
       "      <th></th>\n",
       "      <th>loc1</th>\n",
       "      <th>loc2</th>\n",
       "      <th>para1</th>\n",
       "      <th>dow</th>\n",
       "      <th>para2</th>\n",
       "      <th>para3</th>\n",
       "      <th>para4</th>\n",
       "      <th>price</th>\n",
       "    </tr>\n",
       "  </thead>\n",
       "  <tbody>\n",
       "    <tr>\n",
       "      <th>0</th>\n",
       "      <td>0</td>\n",
       "      <td>01</td>\n",
       "      <td>1</td>\n",
       "      <td>Mon</td>\n",
       "      <td>662</td>\n",
       "      <td>3000.0</td>\n",
       "      <td>3.8</td>\n",
       "      <td>73.49</td>\n",
       "    </tr>\n",
       "    <tr>\n",
       "      <th>1</th>\n",
       "      <td>9</td>\n",
       "      <td>99</td>\n",
       "      <td>1</td>\n",
       "      <td>Thu</td>\n",
       "      <td>340</td>\n",
       "      <td>2760.0</td>\n",
       "      <td>9.2</td>\n",
       "      <td>300.00</td>\n",
       "    </tr>\n",
       "    <tr>\n",
       "      <th>2</th>\n",
       "      <td>0</td>\n",
       "      <td>04</td>\n",
       "      <td>0</td>\n",
       "      <td>Mon</td>\n",
       "      <td>16</td>\n",
       "      <td>2700.0</td>\n",
       "      <td>3.0</td>\n",
       "      <td>130.00</td>\n",
       "    </tr>\n",
       "    <tr>\n",
       "      <th>3</th>\n",
       "      <td>4</td>\n",
       "      <td>40</td>\n",
       "      <td>1</td>\n",
       "      <td>Mon</td>\n",
       "      <td>17</td>\n",
       "      <td>12320.0</td>\n",
       "      <td>6.4</td>\n",
       "      <td>365.00</td>\n",
       "    </tr>\n",
       "    <tr>\n",
       "      <th>4</th>\n",
       "      <td>5</td>\n",
       "      <td>50</td>\n",
       "      <td>1</td>\n",
       "      <td>Thu</td>\n",
       "      <td>610</td>\n",
       "      <td>2117.0</td>\n",
       "      <td>10.8</td>\n",
       "      <td>357.50</td>\n",
       "    </tr>\n",
       "  </tbody>\n",
       "</table>\n",
       "</div>"
      ],
      "text/plain": [
       "  loc1 loc2  para1  dow  para2    para3  para4   price\n",
       "0  0    01   1      Mon  662    3000.0   3.8    73.49 \n",
       "1  9    99   1      Thu  340    2760.0   9.2    300.00\n",
       "2  0    04   0      Mon  16     2700.0   3.0    130.00\n",
       "3  4    40   1      Mon  17     12320.0  6.4    365.00\n",
       "4  5    50   1      Thu  610    2117.0   10.8   357.50"
      ]
     },
     "execution_count": 94,
     "metadata": {},
     "output_type": "execute_result"
    }
   ],
   "source": [
    "sample_df.head()"
   ]
  },
  {
   "cell_type": "code",
   "execution_count": 95,
   "metadata": {},
   "outputs": [],
   "source": [
    "# scaling  para2, para3, para4\n",
    "scaler = StandardScaler()"
   ]
  },
  {
   "cell_type": "code",
   "execution_count": 96,
   "metadata": {},
   "outputs": [],
   "source": [
    "paras = sample_df[['para2','para3','para4']]"
   ]
  },
  {
   "cell_type": "code",
   "execution_count": 97,
   "metadata": {},
   "outputs": [],
   "source": [
    "paras_scaled = pd.DataFrame(scaler.fit_transform(paras))"
   ]
  },
  {
   "cell_type": "code",
   "execution_count": 98,
   "metadata": {},
   "outputs": [
    {
     "data": {
      "text/plain": [
       "(10000, 3)"
      ]
     },
     "execution_count": 98,
     "metadata": {},
     "output_type": "execute_result"
    }
   ],
   "source": [
    "paras_scaled.shape"
   ]
  },
  {
   "cell_type": "code",
   "execution_count": 99,
   "metadata": {},
   "outputs": [],
   "source": [
    "paras2 = pd.DataFrame(paras_scaled)"
   ]
  },
  {
   "cell_type": "code",
   "execution_count": 100,
   "metadata": {},
   "outputs": [
    {
     "data": {
      "text/html": [
       "<div>\n",
       "<style scoped>\n",
       "    .dataframe tbody tr th:only-of-type {\n",
       "        vertical-align: middle;\n",
       "    }\n",
       "\n",
       "    .dataframe tbody tr th {\n",
       "        vertical-align: top;\n",
       "    }\n",
       "\n",
       "    .dataframe thead th {\n",
       "        text-align: right;\n",
       "    }\n",
       "</style>\n",
       "<table border=\"1\" class=\"dataframe\">\n",
       "  <thead>\n",
       "    <tr style=\"text-align: right;\">\n",
       "      <th></th>\n",
       "      <th>0</th>\n",
       "      <th>1</th>\n",
       "      <th>2</th>\n",
       "    </tr>\n",
       "  </thead>\n",
       "  <tbody>\n",
       "    <tr>\n",
       "      <th>0</th>\n",
       "      <td>0.971136</td>\n",
       "      <td>-0.816212</td>\n",
       "      <td>-1.010020</td>\n",
       "    </tr>\n",
       "    <tr>\n",
       "      <th>1</th>\n",
       "      <td>-0.485912</td>\n",
       "      <td>-0.846128</td>\n",
       "      <td>0.160510</td>\n",
       "    </tr>\n",
       "    <tr>\n",
       "      <th>2</th>\n",
       "      <td>-1.952010</td>\n",
       "      <td>-0.853607</td>\n",
       "      <td>-1.183432</td>\n",
       "    </tr>\n",
       "    <tr>\n",
       "      <th>3</th>\n",
       "      <td>-1.947485</td>\n",
       "      <td>0.345533</td>\n",
       "      <td>-0.446432</td>\n",
       "    </tr>\n",
       "    <tr>\n",
       "      <th>4</th>\n",
       "      <td>0.735836</td>\n",
       "      <td>-0.926279</td>\n",
       "      <td>0.507333</td>\n",
       "    </tr>\n",
       "    <tr>\n",
       "      <th>...</th>\n",
       "      <td>...</td>\n",
       "      <td>...</td>\n",
       "      <td>...</td>\n",
       "    </tr>\n",
       "    <tr>\n",
       "      <th>9995</th>\n",
       "      <td>-0.277762</td>\n",
       "      <td>-0.566910</td>\n",
       "      <td>0.767451</td>\n",
       "    </tr>\n",
       "    <tr>\n",
       "      <th>9996</th>\n",
       "      <td>-0.277762</td>\n",
       "      <td>-0.785049</td>\n",
       "      <td>-0.099608</td>\n",
       "    </tr>\n",
       "    <tr>\n",
       "      <th>9997</th>\n",
       "      <td>-1.164661</td>\n",
       "      <td>-0.086257</td>\n",
       "      <td>-0.619844</td>\n",
       "    </tr>\n",
       "    <tr>\n",
       "      <th>9998</th>\n",
       "      <td>1.220011</td>\n",
       "      <td>-0.566910</td>\n",
       "      <td>1.114275</td>\n",
       "    </tr>\n",
       "    <tr>\n",
       "      <th>9999</th>\n",
       "      <td>0.790136</td>\n",
       "      <td>-1.148282</td>\n",
       "      <td>-0.793256</td>\n",
       "    </tr>\n",
       "  </tbody>\n",
       "</table>\n",
       "<p>10000 rows × 3 columns</p>\n",
       "</div>"
      ],
      "text/plain": [
       "             0         1         2\n",
       "0     0.971136 -0.816212 -1.010020\n",
       "1    -0.485912 -0.846128  0.160510\n",
       "2    -1.952010 -0.853607 -1.183432\n",
       "3    -1.947485  0.345533 -0.446432\n",
       "4     0.735836 -0.926279  0.507333\n",
       "...        ...       ...       ...\n",
       "9995 -0.277762 -0.566910  0.767451\n",
       "9996 -0.277762 -0.785049 -0.099608\n",
       "9997 -1.164661 -0.086257 -0.619844\n",
       "9998  1.220011 -0.566910  1.114275\n",
       "9999  0.790136 -1.148282 -0.793256\n",
       "\n",
       "[10000 rows x 3 columns]"
      ]
     },
     "execution_count": 100,
     "metadata": {},
     "output_type": "execute_result"
    }
   ],
   "source": [
    "paras2"
   ]
  },
  {
   "cell_type": "code",
   "execution_count": 101,
   "metadata": {},
   "outputs": [],
   "source": [
    "# constructing X = pd.DataFrame[loc1_df,loc2_df,dow_df,paras_scaled]"
   ]
  },
  {
   "cell_type": "code",
   "execution_count": 102,
   "metadata": {},
   "outputs": [],
   "source": [
    "X = pd.concat([loc1_df,loc2_df,dow_df,para1_df,paras2],axis=1)"
   ]
  },
  {
   "cell_type": "code",
   "execution_count": 103,
   "metadata": {},
   "outputs": [
    {
     "data": {
      "text/plain": [
       "(10000, 142)"
      ]
     },
     "execution_count": 103,
     "metadata": {},
     "output_type": "execute_result"
    }
   ],
   "source": [
    "X.shape"
   ]
  },
  {
   "cell_type": "code",
   "execution_count": 104,
   "metadata": {},
   "outputs": [],
   "source": [
    "y = sample_df.price"
   ]
  },
  {
   "cell_type": "code",
   "execution_count": 105,
   "metadata": {},
   "outputs": [],
   "source": [
    "X_train1, X_test, y_train1, y_test = train_test_split(X, y, test_size=0.2, random_state=42)"
   ]
  },
  {
   "cell_type": "code",
   "execution_count": 106,
   "metadata": {},
   "outputs": [],
   "source": [
    "# cross validation set"
   ]
  },
  {
   "cell_type": "code",
   "execution_count": 107,
   "metadata": {},
   "outputs": [],
   "source": [
    "X_train, X_cv, y_train, y_cv = train_test_split(X_train1, y_train1, test_size=0.2, random_state=42)"
   ]
  },
  {
   "cell_type": "code",
   "execution_count": 108,
   "metadata": {},
   "outputs": [
    {
     "data": {
      "text/plain": [
       "(1600, 142)"
      ]
     },
     "execution_count": 108,
     "metadata": {},
     "output_type": "execute_result"
    }
   ],
   "source": [
    "X_cv.shape"
   ]
  },
  {
   "cell_type": "code",
   "execution_count": 109,
   "metadata": {},
   "outputs": [
    {
     "data": {
      "text/plain": [
       "(1600,)"
      ]
     },
     "execution_count": 109,
     "metadata": {},
     "output_type": "execute_result"
    }
   ],
   "source": [
    "y_cv.shape"
   ]
  },
  {
   "cell_type": "markdown",
   "metadata": {},
   "source": [
    "# **Code improvement**"
   ]
  },
  {
   "cell_type": "code",
   "execution_count": 110,
   "metadata": {},
   "outputs": [],
   "source": [
    "\n",
    "import xgboost\n",
    "from xgboost import XGBRegressor\n",
    "from lightgbm import LGBMRegressor\n",
    "import sklearn\n",
    "from sklearn import tree\n",
    "from sklearn import svm\n",
    "from sklearn import neighbors\n",
    "from sklearn import linear_model\n",
    "from sklearn.model_selection import train_test_split\n",
    "from sklearn.metrics import r2_score\n",
    "from sklearn.metrics import mean_squared_error\n",
    "from sklearn.neural_network import MLPRegressor\n",
    "from sklearn.ensemble import RandomForestRegressor"
   ]
  },
  {
   "cell_type": "code",
   "execution_count": 111,
   "metadata": {},
   "outputs": [
    {
     "data": {
      "text/html": [
       "<div>\n",
       "<style scoped>\n",
       "    .dataframe tbody tr th:only-of-type {\n",
       "        vertical-align: middle;\n",
       "    }\n",
       "\n",
       "    .dataframe tbody tr th {\n",
       "        vertical-align: top;\n",
       "    }\n",
       "\n",
       "    .dataframe thead th {\n",
       "        text-align: right;\n",
       "    }\n",
       "</style>\n",
       "<table border=\"1\" class=\"dataframe\">\n",
       "  <thead>\n",
       "    <tr style=\"text-align: right;\">\n",
       "      <th></th>\n",
       "      <th>loc1</th>\n",
       "      <th>loc2</th>\n",
       "      <th>para1</th>\n",
       "      <th>dow</th>\n",
       "      <th>para2</th>\n",
       "      <th>para3</th>\n",
       "      <th>para4</th>\n",
       "      <th>price</th>\n",
       "    </tr>\n",
       "  </thead>\n",
       "  <tbody>\n",
       "    <tr>\n",
       "      <th>0</th>\n",
       "      <td>0</td>\n",
       "      <td>01</td>\n",
       "      <td>1</td>\n",
       "      <td>Mon</td>\n",
       "      <td>662</td>\n",
       "      <td>3000.0</td>\n",
       "      <td>3.8</td>\n",
       "      <td>73.49</td>\n",
       "    </tr>\n",
       "    <tr>\n",
       "      <th>1</th>\n",
       "      <td>9</td>\n",
       "      <td>99</td>\n",
       "      <td>1</td>\n",
       "      <td>Thu</td>\n",
       "      <td>340</td>\n",
       "      <td>2760.0</td>\n",
       "      <td>9.2</td>\n",
       "      <td>300.00</td>\n",
       "    </tr>\n",
       "    <tr>\n",
       "      <th>2</th>\n",
       "      <td>0</td>\n",
       "      <td>04</td>\n",
       "      <td>0</td>\n",
       "      <td>Mon</td>\n",
       "      <td>16</td>\n",
       "      <td>2700.0</td>\n",
       "      <td>3.0</td>\n",
       "      <td>130.00</td>\n",
       "    </tr>\n",
       "    <tr>\n",
       "      <th>3</th>\n",
       "      <td>4</td>\n",
       "      <td>40</td>\n",
       "      <td>1</td>\n",
       "      <td>Mon</td>\n",
       "      <td>17</td>\n",
       "      <td>12320.0</td>\n",
       "      <td>6.4</td>\n",
       "      <td>365.00</td>\n",
       "    </tr>\n",
       "    <tr>\n",
       "      <th>4</th>\n",
       "      <td>5</td>\n",
       "      <td>50</td>\n",
       "      <td>1</td>\n",
       "      <td>Thu</td>\n",
       "      <td>610</td>\n",
       "      <td>2117.0</td>\n",
       "      <td>10.8</td>\n",
       "      <td>357.50</td>\n",
       "    </tr>\n",
       "  </tbody>\n",
       "</table>\n",
       "</div>"
      ],
      "text/plain": [
       "  loc1 loc2  para1  dow  para2    para3  para4   price\n",
       "0  0    01   1      Mon  662    3000.0   3.8    73.49 \n",
       "1  9    99   1      Thu  340    2760.0   9.2    300.00\n",
       "2  0    04   0      Mon  16     2700.0   3.0    130.00\n",
       "3  4    40   1      Mon  17     12320.0  6.4    365.00\n",
       "4  5    50   1      Thu  610    2117.0   10.8   357.50"
      ]
     },
     "execution_count": 111,
     "metadata": {},
     "output_type": "execute_result"
    }
   ],
   "source": [
    "sample_df.head()"
   ]
  },
  {
   "cell_type": "markdown",
   "metadata": {},
   "source": [
    "## Data Type Changing"
   ]
  },
  {
   "cell_type": "code",
   "execution_count": 112,
   "metadata": {},
   "outputs": [
    {
     "data": {
      "text/plain": [
       "2    1607\n",
       "0    1486\n",
       "1    1223\n",
       "7    1081\n",
       "3    945 \n",
       "5    846 \n",
       "4    773 \n",
       "8    727 \n",
       "9    690 \n",
       "6    620 \n",
       "T    1   \n",
       "S    1   \n",
       "Name: loc1, dtype: int64"
      ]
     },
     "execution_count": 112,
     "metadata": {},
     "output_type": "execute_result"
    }
   ],
   "source": [
    "sample_df[\"loc1\"].value_counts()"
   ]
  },
  {
   "cell_type": "code",
   "execution_count": 113,
   "metadata": {},
   "outputs": [],
   "source": [
    "sample_df = sample_df[(sample_df[\"loc1\"].str.contains(\"S\") == False) & (sample_df[\"loc1\"].str.contains(\"T\") == False)]"
   ]
  },
  {
   "cell_type": "code",
   "execution_count": 114,
   "metadata": {},
   "outputs": [
    {
     "data": {
      "text/plain": [
       "(9998, 8)"
      ]
     },
     "execution_count": 114,
     "metadata": {},
     "output_type": "execute_result"
    }
   ],
   "source": [
    "sample_df.shape"
   ]
  },
  {
   "cell_type": "code",
   "execution_count": 115,
   "metadata": {},
   "outputs": [],
   "source": [
    "sample_df[\"loc2\"] = pd.to_numeric(sample_df[\"loc2\"], errors='coerce')\n",
    "sample_df[\"loc1\"] = pd.to_numeric(sample_df[\"loc1\"], errors='coerce')\n",
    "sample_df.dropna(inplace = True)"
   ]
  },
  {
   "cell_type": "code",
   "execution_count": 116,
   "metadata": {},
   "outputs": [
    {
     "data": {
      "text/plain": [
       "(9993, 8)"
      ]
     },
     "execution_count": 116,
     "metadata": {},
     "output_type": "execute_result"
    }
   ],
   "source": [
    "sample_df.shape"
   ]
  },
  {
   "cell_type": "code",
   "execution_count": null,
   "metadata": {},
   "outputs": [],
   "source": []
  },
  {
   "cell_type": "code",
   "execution_count": 117,
   "metadata": {},
   "outputs": [],
   "source": [
    "# get_dummies\n",
    "dow_dummies = pd.get_dummies(sample_df.dow)"
   ]
  },
  {
   "cell_type": "code",
   "execution_count": 118,
   "metadata": {},
   "outputs": [
    {
     "data": {
      "text/html": [
       "<div>\n",
       "<style scoped>\n",
       "    .dataframe tbody tr th:only-of-type {\n",
       "        vertical-align: middle;\n",
       "    }\n",
       "\n",
       "    .dataframe tbody tr th {\n",
       "        vertical-align: top;\n",
       "    }\n",
       "\n",
       "    .dataframe thead th {\n",
       "        text-align: right;\n",
       "    }\n",
       "</style>\n",
       "<table border=\"1\" class=\"dataframe\">\n",
       "  <thead>\n",
       "    <tr style=\"text-align: right;\">\n",
       "      <th></th>\n",
       "      <th>Fri</th>\n",
       "      <th>Mon</th>\n",
       "      <th>Sat</th>\n",
       "      <th>Sun</th>\n",
       "      <th>Thu</th>\n",
       "      <th>Tue</th>\n",
       "      <th>Wed</th>\n",
       "    </tr>\n",
       "  </thead>\n",
       "  <tbody>\n",
       "    <tr>\n",
       "      <th>0</th>\n",
       "      <td>0</td>\n",
       "      <td>1</td>\n",
       "      <td>0</td>\n",
       "      <td>0</td>\n",
       "      <td>0</td>\n",
       "      <td>0</td>\n",
       "      <td>0</td>\n",
       "    </tr>\n",
       "    <tr>\n",
       "      <th>1</th>\n",
       "      <td>0</td>\n",
       "      <td>0</td>\n",
       "      <td>0</td>\n",
       "      <td>0</td>\n",
       "      <td>1</td>\n",
       "      <td>0</td>\n",
       "      <td>0</td>\n",
       "    </tr>\n",
       "    <tr>\n",
       "      <th>2</th>\n",
       "      <td>0</td>\n",
       "      <td>1</td>\n",
       "      <td>0</td>\n",
       "      <td>0</td>\n",
       "      <td>0</td>\n",
       "      <td>0</td>\n",
       "      <td>0</td>\n",
       "    </tr>\n",
       "    <tr>\n",
       "      <th>3</th>\n",
       "      <td>0</td>\n",
       "      <td>1</td>\n",
       "      <td>0</td>\n",
       "      <td>0</td>\n",
       "      <td>0</td>\n",
       "      <td>0</td>\n",
       "      <td>0</td>\n",
       "    </tr>\n",
       "    <tr>\n",
       "      <th>4</th>\n",
       "      <td>0</td>\n",
       "      <td>0</td>\n",
       "      <td>0</td>\n",
       "      <td>0</td>\n",
       "      <td>1</td>\n",
       "      <td>0</td>\n",
       "      <td>0</td>\n",
       "    </tr>\n",
       "  </tbody>\n",
       "</table>\n",
       "</div>"
      ],
      "text/plain": [
       "   Fri  Mon  Sat  Sun  Thu  Tue  Wed\n",
       "0  0    1    0    0    0    0    0  \n",
       "1  0    0    0    0    1    0    0  \n",
       "2  0    1    0    0    0    0    0  \n",
       "3  0    1    0    0    0    0    0  \n",
       "4  0    0    0    0    1    0    0  "
      ]
     },
     "execution_count": 118,
     "metadata": {},
     "output_type": "execute_result"
    }
   ],
   "source": [
    "dow_dummies.head()"
   ]
  },
  {
   "cell_type": "code",
   "execution_count": 119,
   "metadata": {},
   "outputs": [],
   "source": [
    "df2 = sample_df.copy(deep=True)"
   ]
  },
  {
   "cell_type": "code",
   "execution_count": 120,
   "metadata": {},
   "outputs": [],
   "source": [
    "df2.drop(columns = \"dow\", inplace = True)"
   ]
  },
  {
   "cell_type": "code",
   "execution_count": 121,
   "metadata": {},
   "outputs": [
    {
     "data": {
      "text/html": [
       "<div>\n",
       "<style scoped>\n",
       "    .dataframe tbody tr th:only-of-type {\n",
       "        vertical-align: middle;\n",
       "    }\n",
       "\n",
       "    .dataframe tbody tr th {\n",
       "        vertical-align: top;\n",
       "    }\n",
       "\n",
       "    .dataframe thead th {\n",
       "        text-align: right;\n",
       "    }\n",
       "</style>\n",
       "<table border=\"1\" class=\"dataframe\">\n",
       "  <thead>\n",
       "    <tr style=\"text-align: right;\">\n",
       "      <th></th>\n",
       "      <th>loc1</th>\n",
       "      <th>loc2</th>\n",
       "      <th>para1</th>\n",
       "      <th>para2</th>\n",
       "      <th>para3</th>\n",
       "      <th>para4</th>\n",
       "      <th>price</th>\n",
       "      <th>Fri</th>\n",
       "      <th>Mon</th>\n",
       "      <th>Sat</th>\n",
       "      <th>Sun</th>\n",
       "      <th>Thu</th>\n",
       "      <th>Tue</th>\n",
       "      <th>Wed</th>\n",
       "    </tr>\n",
       "  </thead>\n",
       "  <tbody>\n",
       "    <tr>\n",
       "      <th>0</th>\n",
       "      <td>0</td>\n",
       "      <td>1.0</td>\n",
       "      <td>1</td>\n",
       "      <td>662</td>\n",
       "      <td>3000.0</td>\n",
       "      <td>3.8</td>\n",
       "      <td>73.49</td>\n",
       "      <td>0</td>\n",
       "      <td>1</td>\n",
       "      <td>0</td>\n",
       "      <td>0</td>\n",
       "      <td>0</td>\n",
       "      <td>0</td>\n",
       "      <td>0</td>\n",
       "    </tr>\n",
       "    <tr>\n",
       "      <th>1</th>\n",
       "      <td>9</td>\n",
       "      <td>99.0</td>\n",
       "      <td>1</td>\n",
       "      <td>340</td>\n",
       "      <td>2760.0</td>\n",
       "      <td>9.2</td>\n",
       "      <td>300.00</td>\n",
       "      <td>0</td>\n",
       "      <td>0</td>\n",
       "      <td>0</td>\n",
       "      <td>0</td>\n",
       "      <td>1</td>\n",
       "      <td>0</td>\n",
       "      <td>0</td>\n",
       "    </tr>\n",
       "    <tr>\n",
       "      <th>2</th>\n",
       "      <td>0</td>\n",
       "      <td>4.0</td>\n",
       "      <td>0</td>\n",
       "      <td>16</td>\n",
       "      <td>2700.0</td>\n",
       "      <td>3.0</td>\n",
       "      <td>130.00</td>\n",
       "      <td>0</td>\n",
       "      <td>1</td>\n",
       "      <td>0</td>\n",
       "      <td>0</td>\n",
       "      <td>0</td>\n",
       "      <td>0</td>\n",
       "      <td>0</td>\n",
       "    </tr>\n",
       "    <tr>\n",
       "      <th>3</th>\n",
       "      <td>4</td>\n",
       "      <td>40.0</td>\n",
       "      <td>1</td>\n",
       "      <td>17</td>\n",
       "      <td>12320.0</td>\n",
       "      <td>6.4</td>\n",
       "      <td>365.00</td>\n",
       "      <td>0</td>\n",
       "      <td>1</td>\n",
       "      <td>0</td>\n",
       "      <td>0</td>\n",
       "      <td>0</td>\n",
       "      <td>0</td>\n",
       "      <td>0</td>\n",
       "    </tr>\n",
       "    <tr>\n",
       "      <th>4</th>\n",
       "      <td>5</td>\n",
       "      <td>50.0</td>\n",
       "      <td>1</td>\n",
       "      <td>610</td>\n",
       "      <td>2117.0</td>\n",
       "      <td>10.8</td>\n",
       "      <td>357.50</td>\n",
       "      <td>0</td>\n",
       "      <td>0</td>\n",
       "      <td>0</td>\n",
       "      <td>0</td>\n",
       "      <td>1</td>\n",
       "      <td>0</td>\n",
       "      <td>0</td>\n",
       "    </tr>\n",
       "  </tbody>\n",
       "</table>\n",
       "</div>"
      ],
      "text/plain": [
       "   loc1  loc2  para1  para2    para3  para4   price  Fri  Mon  Sat  Sun  Thu  \\\n",
       "0  0     1.0   1      662    3000.0   3.8    73.49   0    1    0    0    0     \n",
       "1  9     99.0  1      340    2760.0   9.2    300.00  0    0    0    0    1     \n",
       "2  0     4.0   0      16     2700.0   3.0    130.00  0    1    0    0    0     \n",
       "3  4     40.0  1      17     12320.0  6.4    365.00  0    1    0    0    0     \n",
       "4  5     50.0  1      610    2117.0   10.8   357.50  0    0    0    0    1     \n",
       "\n",
       "   Tue  Wed  \n",
       "0  0    0    \n",
       "1  0    0    \n",
       "2  0    0    \n",
       "3  0    0    \n",
       "4  0    0    "
      ]
     },
     "execution_count": 121,
     "metadata": {},
     "output_type": "execute_result"
    }
   ],
   "source": [
    "result = df2.join(dow_dummies)\n",
    "result.head()"
   ]
  },
  {
   "cell_type": "code",
   "execution_count": 122,
   "metadata": {},
   "outputs": [],
   "source": [
    "# day classification\n",
    "days_of_week = {'Mon': 1, 'Tue': 2, 'Wed': 3, 'Thu': 4, 'Fri': 5, 'Sat': 6, 'Sun': 7}\n",
    "sample_df['dow'] = sample_df['dow'].map(days_of_week)"
   ]
  },
  {
   "cell_type": "code",
   "execution_count": 123,
   "metadata": {},
   "outputs": [
    {
     "data": {
      "text/html": [
       "<div>\n",
       "<style scoped>\n",
       "    .dataframe tbody tr th:only-of-type {\n",
       "        vertical-align: middle;\n",
       "    }\n",
       "\n",
       "    .dataframe tbody tr th {\n",
       "        vertical-align: top;\n",
       "    }\n",
       "\n",
       "    .dataframe thead th {\n",
       "        text-align: right;\n",
       "    }\n",
       "</style>\n",
       "<table border=\"1\" class=\"dataframe\">\n",
       "  <thead>\n",
       "    <tr style=\"text-align: right;\">\n",
       "      <th></th>\n",
       "      <th>loc1</th>\n",
       "      <th>loc2</th>\n",
       "      <th>para1</th>\n",
       "      <th>dow</th>\n",
       "      <th>para2</th>\n",
       "      <th>para3</th>\n",
       "      <th>para4</th>\n",
       "      <th>price</th>\n",
       "    </tr>\n",
       "  </thead>\n",
       "  <tbody>\n",
       "    <tr>\n",
       "      <th>0</th>\n",
       "      <td>0</td>\n",
       "      <td>1.0</td>\n",
       "      <td>1</td>\n",
       "      <td>1</td>\n",
       "      <td>662</td>\n",
       "      <td>3000.0</td>\n",
       "      <td>3.8</td>\n",
       "      <td>73.49</td>\n",
       "    </tr>\n",
       "    <tr>\n",
       "      <th>1</th>\n",
       "      <td>9</td>\n",
       "      <td>99.0</td>\n",
       "      <td>1</td>\n",
       "      <td>4</td>\n",
       "      <td>340</td>\n",
       "      <td>2760.0</td>\n",
       "      <td>9.2</td>\n",
       "      <td>300.00</td>\n",
       "    </tr>\n",
       "    <tr>\n",
       "      <th>2</th>\n",
       "      <td>0</td>\n",
       "      <td>4.0</td>\n",
       "      <td>0</td>\n",
       "      <td>1</td>\n",
       "      <td>16</td>\n",
       "      <td>2700.0</td>\n",
       "      <td>3.0</td>\n",
       "      <td>130.00</td>\n",
       "    </tr>\n",
       "    <tr>\n",
       "      <th>3</th>\n",
       "      <td>4</td>\n",
       "      <td>40.0</td>\n",
       "      <td>1</td>\n",
       "      <td>1</td>\n",
       "      <td>17</td>\n",
       "      <td>12320.0</td>\n",
       "      <td>6.4</td>\n",
       "      <td>365.00</td>\n",
       "    </tr>\n",
       "    <tr>\n",
       "      <th>4</th>\n",
       "      <td>5</td>\n",
       "      <td>50.0</td>\n",
       "      <td>1</td>\n",
       "      <td>4</td>\n",
       "      <td>610</td>\n",
       "      <td>2117.0</td>\n",
       "      <td>10.8</td>\n",
       "      <td>357.50</td>\n",
       "    </tr>\n",
       "  </tbody>\n",
       "</table>\n",
       "</div>"
      ],
      "text/plain": [
       "   loc1  loc2  para1  dow  para2    para3  para4   price\n",
       "0  0     1.0   1      1    662    3000.0   3.8    73.49 \n",
       "1  9     99.0  1      4    340    2760.0   9.2    300.00\n",
       "2  0     4.0   0      1    16     2700.0   3.0    130.00\n",
       "3  4     40.0  1      1    17     12320.0  6.4    365.00\n",
       "4  5     50.0  1      4    610    2117.0   10.8   357.50"
      ]
     },
     "execution_count": 123,
     "metadata": {},
     "output_type": "execute_result"
    }
   ],
   "source": [
    "sample_df.head()"
   ]
  },
  {
   "cell_type": "code",
   "execution_count": 124,
   "metadata": {},
   "outputs": [
    {
     "data": {
      "text/html": [
       "<div>\n",
       "<style scoped>\n",
       "    .dataframe tbody tr th:only-of-type {\n",
       "        vertical-align: middle;\n",
       "    }\n",
       "\n",
       "    .dataframe tbody tr th {\n",
       "        vertical-align: top;\n",
       "    }\n",
       "\n",
       "    .dataframe thead th {\n",
       "        text-align: right;\n",
       "    }\n",
       "</style>\n",
       "<table border=\"1\" class=\"dataframe\">\n",
       "  <thead>\n",
       "    <tr style=\"text-align: right;\">\n",
       "      <th></th>\n",
       "      <th>loc1</th>\n",
       "      <th>loc2</th>\n",
       "      <th>para1</th>\n",
       "      <th>para2</th>\n",
       "      <th>para3</th>\n",
       "      <th>para4</th>\n",
       "      <th>price</th>\n",
       "      <th>Fri</th>\n",
       "      <th>Mon</th>\n",
       "      <th>Sat</th>\n",
       "      <th>Sun</th>\n",
       "      <th>Thu</th>\n",
       "      <th>Tue</th>\n",
       "      <th>Wed</th>\n",
       "    </tr>\n",
       "  </thead>\n",
       "  <tbody>\n",
       "    <tr>\n",
       "      <th>0</th>\n",
       "      <td>0</td>\n",
       "      <td>1.0</td>\n",
       "      <td>1</td>\n",
       "      <td>662</td>\n",
       "      <td>3000.0</td>\n",
       "      <td>3.8</td>\n",
       "      <td>73.49</td>\n",
       "      <td>0</td>\n",
       "      <td>1</td>\n",
       "      <td>0</td>\n",
       "      <td>0</td>\n",
       "      <td>0</td>\n",
       "      <td>0</td>\n",
       "      <td>0</td>\n",
       "    </tr>\n",
       "    <tr>\n",
       "      <th>1</th>\n",
       "      <td>9</td>\n",
       "      <td>99.0</td>\n",
       "      <td>1</td>\n",
       "      <td>340</td>\n",
       "      <td>2760.0</td>\n",
       "      <td>9.2</td>\n",
       "      <td>300.00</td>\n",
       "      <td>0</td>\n",
       "      <td>0</td>\n",
       "      <td>0</td>\n",
       "      <td>0</td>\n",
       "      <td>1</td>\n",
       "      <td>0</td>\n",
       "      <td>0</td>\n",
       "    </tr>\n",
       "    <tr>\n",
       "      <th>2</th>\n",
       "      <td>0</td>\n",
       "      <td>4.0</td>\n",
       "      <td>0</td>\n",
       "      <td>16</td>\n",
       "      <td>2700.0</td>\n",
       "      <td>3.0</td>\n",
       "      <td>130.00</td>\n",
       "      <td>0</td>\n",
       "      <td>1</td>\n",
       "      <td>0</td>\n",
       "      <td>0</td>\n",
       "      <td>0</td>\n",
       "      <td>0</td>\n",
       "      <td>0</td>\n",
       "    </tr>\n",
       "    <tr>\n",
       "      <th>3</th>\n",
       "      <td>4</td>\n",
       "      <td>40.0</td>\n",
       "      <td>1</td>\n",
       "      <td>17</td>\n",
       "      <td>12320.0</td>\n",
       "      <td>6.4</td>\n",
       "      <td>365.00</td>\n",
       "      <td>0</td>\n",
       "      <td>1</td>\n",
       "      <td>0</td>\n",
       "      <td>0</td>\n",
       "      <td>0</td>\n",
       "      <td>0</td>\n",
       "      <td>0</td>\n",
       "    </tr>\n",
       "    <tr>\n",
       "      <th>4</th>\n",
       "      <td>5</td>\n",
       "      <td>50.0</td>\n",
       "      <td>1</td>\n",
       "      <td>610</td>\n",
       "      <td>2117.0</td>\n",
       "      <td>10.8</td>\n",
       "      <td>357.50</td>\n",
       "      <td>0</td>\n",
       "      <td>0</td>\n",
       "      <td>0</td>\n",
       "      <td>0</td>\n",
       "      <td>1</td>\n",
       "      <td>0</td>\n",
       "      <td>0</td>\n",
       "    </tr>\n",
       "  </tbody>\n",
       "</table>\n",
       "</div>"
      ],
      "text/plain": [
       "   loc1  loc2  para1  para2    para3  para4   price  Fri  Mon  Sat  Sun  Thu  \\\n",
       "0  0     1.0   1      662    3000.0   3.8    73.49   0    1    0    0    0     \n",
       "1  9     99.0  1      340    2760.0   9.2    300.00  0    0    0    0    1     \n",
       "2  0     4.0   0      16     2700.0   3.0    130.00  0    1    0    0    0     \n",
       "3  4     40.0  1      17     12320.0  6.4    365.00  0    1    0    0    0     \n",
       "4  5     50.0  1      610    2117.0   10.8   357.50  0    0    0    0    1     \n",
       "\n",
       "   Tue  Wed  \n",
       "0  0    0    \n",
       "1  0    0    \n",
       "2  0    0    \n",
       "3  0    0    \n",
       "4  0    0    "
      ]
     },
     "execution_count": 124,
     "metadata": {},
     "output_type": "execute_result"
    }
   ],
   "source": [
    "result.head()"
   ]
  },
  {
   "cell_type": "code",
   "execution_count": 130,
   "metadata": {},
   "outputs": [
    {
     "data": {
      "text/html": [
       "<div>\n",
       "<style scoped>\n",
       "    .dataframe tbody tr th:only-of-type {\n",
       "        vertical-align: middle;\n",
       "    }\n",
       "\n",
       "    .dataframe tbody tr th {\n",
       "        vertical-align: top;\n",
       "    }\n",
       "\n",
       "    .dataframe thead th {\n",
       "        text-align: right;\n",
       "    }\n",
       "</style>\n",
       "<table border=\"1\" class=\"dataframe\">\n",
       "  <thead>\n",
       "    <tr style=\"text-align: right;\">\n",
       "      <th></th>\n",
       "      <th>price</th>\n",
       "    </tr>\n",
       "  </thead>\n",
       "  <tbody>\n",
       "    <tr>\n",
       "      <th>price</th>\n",
       "      <td>1.000000</td>\n",
       "    </tr>\n",
       "    <tr>\n",
       "      <th>para2</th>\n",
       "      <td>0.551222</td>\n",
       "    </tr>\n",
       "    <tr>\n",
       "      <th>para4</th>\n",
       "      <td>0.517614</td>\n",
       "    </tr>\n",
       "    <tr>\n",
       "      <th>para3</th>\n",
       "      <td>0.356949</td>\n",
       "    </tr>\n",
       "    <tr>\n",
       "      <th>para1</th>\n",
       "      <td>0.074555</td>\n",
       "    </tr>\n",
       "    <tr>\n",
       "      <th>loc1</th>\n",
       "      <td>0.044079</td>\n",
       "    </tr>\n",
       "    <tr>\n",
       "      <th>loc2</th>\n",
       "      <td>0.043543</td>\n",
       "    </tr>\n",
       "    <tr>\n",
       "      <th>Wed</th>\n",
       "      <td>0.026684</td>\n",
       "    </tr>\n",
       "    <tr>\n",
       "      <th>Fri</th>\n",
       "      <td>0.025674</td>\n",
       "    </tr>\n",
       "    <tr>\n",
       "      <th>Mon</th>\n",
       "      <td>0.021734</td>\n",
       "    </tr>\n",
       "    <tr>\n",
       "      <th>Thu</th>\n",
       "      <td>0.019656</td>\n",
       "    </tr>\n",
       "    <tr>\n",
       "      <th>Sat</th>\n",
       "      <td>0.014918</td>\n",
       "    </tr>\n",
       "    <tr>\n",
       "      <th>Sun</th>\n",
       "      <td>0.004176</td>\n",
       "    </tr>\n",
       "    <tr>\n",
       "      <th>Tue</th>\n",
       "      <td>0.000974</td>\n",
       "    </tr>\n",
       "  </tbody>\n",
       "</table>\n",
       "</div>"
      ],
      "text/plain": [
       "          price\n",
       "price  1.000000\n",
       "para2  0.551222\n",
       "para4  0.517614\n",
       "para3  0.356949\n",
       "para1  0.074555\n",
       "loc1   0.044079\n",
       "loc2   0.043543\n",
       "Wed    0.026684\n",
       "Fri    0.025674\n",
       "Mon    0.021734\n",
       "Thu    0.019656\n",
       "Sat    0.014918\n",
       "Sun    0.004176\n",
       "Tue    0.000974"
      ]
     },
     "execution_count": 130,
     "metadata": {},
     "output_type": "execute_result"
    }
   ],
   "source": [
    "#correlation matrix by result df\n",
    "pd.DataFrame(abs(result.corr().price).sort_values(ascending=False))"
   ]
  },
  {
   "cell_type": "code",
   "execution_count": 131,
   "metadata": {},
   "outputs": [
    {
     "data": {
      "text/plain": [
       "1      7052\n",
       "3      1609\n",
       "0      836 \n",
       "2      265 \n",
       "4      164 \n",
       "5      51  \n",
       "6      6   \n",
       "7      3   \n",
       "13     2   \n",
       "9      2   \n",
       "337    1   \n",
       "24     1   \n",
       "8      1   \n",
       "Name: para1, dtype: int64"
      ]
     },
     "execution_count": 131,
     "metadata": {},
     "output_type": "execute_result"
    }
   ],
   "source": [
    "# checkin outliers\n",
    "result[\"para1\"].value_counts()"
   ]
  },
  {
   "cell_type": "code",
   "execution_count": 133,
   "metadata": {},
   "outputs": [],
   "source": [
    "result = result[result[\"para1\"] < 10]"
   ]
  },
  {
   "cell_type": "markdown",
   "metadata": {},
   "source": [
    "## Feature selection"
   ]
  },
  {
   "cell_type": "code",
   "execution_count": 134,
   "metadata": {},
   "outputs": [],
   "source": [
    "# 5 best\n",
    "five_best = []\n",
    "df_5 = pd.DataFrame(result.corr()[\"price\"]).sort_values(by = \"price\", ascending = False)\n",
    "df_5 = df_5.drop(df_5.index[0]).head(5)\n",
    "for i in range(len(df_5)):\n",
    "    five_best.append(df_5.index[i]) "
   ]
  },
  {
   "cell_type": "code",
   "execution_count": 135,
   "metadata": {},
   "outputs": [
    {
     "data": {
      "text/plain": [
       "['para2', 'para4', 'para3', 'para1', 'Fri']"
      ]
     },
     "execution_count": 135,
     "metadata": {},
     "output_type": "execute_result"
    }
   ],
   "source": [
    "five_best"
   ]
  },
  {
   "cell_type": "code",
   "execution_count": 136,
   "metadata": {},
   "outputs": [],
   "source": [
    "# 3 best\n",
    "df_3 = pd.DataFrame(result.corr()[\"price\"]).sort_values(by = \"price\", ascending = False)\n",
    "df_3 = df_3.drop(df_3.index[0]).head(3)\n",
    "three_best = []\n",
    "for i in range(len(df_3)):\n",
    "    three_best.append(df_3.index[i])"
   ]
  },
  {
   "cell_type": "code",
   "execution_count": 137,
   "metadata": {},
   "outputs": [
    {
     "data": {
      "text/html": [
       "<div>\n",
       "<style scoped>\n",
       "    .dataframe tbody tr th:only-of-type {\n",
       "        vertical-align: middle;\n",
       "    }\n",
       "\n",
       "    .dataframe tbody tr th {\n",
       "        vertical-align: top;\n",
       "    }\n",
       "\n",
       "    .dataframe thead th {\n",
       "        text-align: right;\n",
       "    }\n",
       "</style>\n",
       "<table border=\"1\" class=\"dataframe\">\n",
       "  <thead>\n",
       "    <tr style=\"text-align: right;\">\n",
       "      <th></th>\n",
       "      <th>price</th>\n",
       "    </tr>\n",
       "  </thead>\n",
       "  <tbody>\n",
       "    <tr>\n",
       "      <th>para2</th>\n",
       "      <td>0.551435</td>\n",
       "    </tr>\n",
       "    <tr>\n",
       "      <th>para4</th>\n",
       "      <td>0.517559</td>\n",
       "    </tr>\n",
       "    <tr>\n",
       "      <th>para3</th>\n",
       "      <td>0.356646</td>\n",
       "    </tr>\n",
       "  </tbody>\n",
       "</table>\n",
       "</div>"
      ],
      "text/plain": [
       "          price\n",
       "para2  0.551435\n",
       "para4  0.517559\n",
       "para3  0.356646"
      ]
     },
     "execution_count": 137,
     "metadata": {},
     "output_type": "execute_result"
    }
   ],
   "source": [
    "df_3"
   ]
  },
  {
   "cell_type": "markdown",
   "metadata": {},
   "source": [
    "# Regresion Models"
   ]
  },
  {
   "cell_type": "code",
   "execution_count": 138,
   "metadata": {},
   "outputs": [],
   "source": [
    "feature_sets = {\n",
    "    \"full_dataset\": result.drop(columns=['price']),\n",
    "    \"three_best\": result[three_best],\n",
    "    \"five_best\": result[five_best], \n",
    "   \n",
    "}"
   ]
  },
  {
   "cell_type": "code",
   "execution_count": 139,
   "metadata": {},
   "outputs": [],
   "source": [
    "regression_models = {\n",
    "    \"Ridge\" : linear_model.Ridge(random_state = 42),\n",
    "    \"DecisionTree\" : tree.DecisionTreeRegressor(random_state = 42, max_depth=6),\n",
    "    \"RandomForest\" : RandomForestRegressor(random_state = 42),\n",
    "    \"XGBoost\": XGBRegressor(random_state = 42),\n",
    "    \"LGBM\": LGBMRegressor(random_state = 42),\n",
    "    \"MLP\":  MLPRegressor(random_state = 42),    \n",
    "}"
   ]
  },
  {
   "cell_type": "code",
   "execution_count": 146,
   "metadata": {},
   "outputs": [],
   "source": [
    "def make_regression(x_train, y_train, x_test, y_test, model, model_name, verbose=True):\n",
    "\n",
    "    model.fit(x_train,y_train)\n",
    "    \n",
    "    y_predict=model.predict(x_train)\n",
    "    train_error = mean_squared_error(y_train, y_predict)\n",
    "    \n",
    "    y_predict =model.predict(x_test)\n",
    "    test_error = mean_squared_error(y_test, y_predict)\n",
    "    \n",
    "    y_predict=model.predict(x_train)\n",
    "    r2 = r2_score(y_train, y_predict)\n",
    "    \n",
    "    if verbose:\n",
    "        print(\"----Model name = {}-----\".format(model_name))\n",
    "        print(\"Train error = \"'{}'.format(train_error))\n",
    "        print(\"Test error = \"'{}'.format(test_error))\n",
    "        print(\"r2_score = \"'{}'.format(r2))\n",
    "        print(\"--------------------------------\")\n",
    "    \n",
    "    trained_model = model\n",
    "    \n",
    "    return trained_model, y_predict, train_error, test_error, r2"
   ]
  },
  {
   "cell_type": "code",
   "execution_count": 147,
   "metadata": {},
   "outputs": [],
   "source": [
    "pred_dict = {\n",
    "    \"regression_model\": [],\n",
    "    \"feature_set\": [],\n",
    "    \"Train Error\": [],\n",
    "    \"Test Error\": [],\n",
    "    \"R2\" : []\n",
    "}"
   ]
  },
  {
   "cell_type": "code",
   "execution_count": 148,
   "metadata": {},
   "outputs": [
    {
     "name": "stdout",
     "output_type": "stream",
     "text": [
      "Included columns are full_dataset\n",
      "----Model name = Ridge-----\n",
      "Train error = 34073.29533952957\n",
      "Test error = 30276.311719997226\n",
      "r2_score = 0.5581558312812029\n",
      "--------------------------------\n",
      "----Model name = DecisionTree-----\n",
      "Train error = 20676.303321262738\n",
      "Test error = 27466.628374708096\n",
      "r2_score = 0.7318808186256526\n",
      "--------------------------------\n",
      "----Model name = RandomForest-----\n",
      "Train error = 4684.0903703709455\n",
      "Test error = 25088.232120000208\n",
      "r2_score = 0.939259235266886\n",
      "--------------------------------\n",
      "----Model name = XGBoost-----\n",
      "Train error = 5969.642279389444\n",
      "Test error = 23802.400334791975\n",
      "r2_score = 0.9225888895041688\n",
      "--------------------------------\n",
      "----Model name = LGBM-----\n",
      "Train error = 14917.600885234253\n",
      "Test error = 21833.673550738684\n",
      "r2_score = 0.8065565746801019\n",
      "--------------------------------\n",
      "----Model name = MLP-----\n",
      "Train error = 33462.46857014817\n",
      "Test error = 29555.343571823698\n",
      "r2_score = 0.5660767043126824\n",
      "--------------------------------\n",
      "Included columns are three_best\n",
      "----Model name = Ridge-----\n",
      "Train error = 34505.15968104937\n",
      "Test error = 30592.036664241892\n",
      "r2_score = 0.5525556467649513\n",
      "--------------------------------\n",
      "----Model name = DecisionTree-----\n",
      "Train error = 21541.365108673886\n",
      "Test error = 30381.27789765607\n",
      "r2_score = 0.7206631626126268\n",
      "--------------------------------\n",
      "----Model name = RandomForest-----\n",
      "Train error = 5720.3063601227195\n",
      "Test error = 29012.23691540877\n",
      "r2_score = 0.9258221436077816\n",
      "--------------------------------\n",
      "----Model name = XGBoost-----\n",
      "Train error = 9323.89670674737\n",
      "Test error = 31357.50847838428\n",
      "r2_score = 0.8790927220698461\n",
      "--------------------------------\n",
      "----Model name = LGBM-----\n",
      "Train error = 19005.955759637287\n",
      "Test error = 25642.45683508437\n",
      "r2_score = 0.7535409874612053\n",
      "--------------------------------\n",
      "----Model name = MLP-----\n",
      "Train error = 35266.52999559087\n",
      "Test error = 31280.190456648997\n",
      "r2_score = 0.5426826060049199\n",
      "--------------------------------\n",
      "Included columns are five_best\n",
      "----Model name = Ridge-----\n",
      "Train error = 34106.233885101465\n",
      "Test error = 30246.239580048703\n",
      "r2_score = 0.5577287019371816\n",
      "--------------------------------\n",
      "----Model name = DecisionTree-----\n",
      "Train error = 20586.23690789005\n",
      "Test error = 28971.189664723846\n",
      "r2_score = 0.7330487514348978\n",
      "--------------------------------\n",
      "----Model name = RandomForest-----\n",
      "Train error = 5026.811956951196\n",
      "Test error = 27321.977828523548\n",
      "r2_score = 0.9348150060540791\n",
      "--------------------------------\n",
      "----Model name = XGBoost-----\n",
      "Train error = 8244.279063171427\n",
      "Test error = 28755.61792608376\n",
      "r2_score = 0.8930926230335356\n",
      "--------------------------------\n",
      "----Model name = LGBM-----\n",
      "Train error = 17035.93608132792\n",
      "Test error = 23615.19605107328\n",
      "r2_score = 0.7790871431367454\n",
      "--------------------------------\n",
      "----Model name = MLP-----\n",
      "Train error = 35960.81923653005\n",
      "Test error = 32073.412137495743\n",
      "r2_score = 0.5336794365299298\n",
      "--------------------------------\n"
     ]
    }
   ],
   "source": [
    "for feature_set_name in feature_sets.keys():\n",
    "    \n",
    "    feature_set = feature_sets[feature_set_name]\n",
    "    print(\"Included columns are {}\".format(feature_set_name))\n",
    "    for model_name in regression_models.keys():        \n",
    "        \n",
    "        y = result[\"price\"]\n",
    "        x = feature_set\n",
    "        x_train, x_test, y_train, y_test = train_test_split(x, y, test_size=0.2, random_state=42)\n",
    "    \n",
    "\n",
    "        trained_model, y_predict, train_error, test_error, r2 = make_regression(x_train, y_train, x_test, y_test, regression_models[model_name], model_name, verbose=True)\n",
    "\n",
    "\n",
    "        pred_dict[\"regression_model\"].append(model_name)\n",
    "        pred_dict[\"feature_set\"].append(feature_set_name)\n",
    "        pred_dict[\"Train Error\"].append(train_error)\n",
    "        pred_dict[\"Test Error\"].append(test_error)\n",
    "        pred_dict[\"R2\"].append(r2)"
   ]
  },
  {
   "cell_type": "code",
   "execution_count": 149,
   "metadata": {},
   "outputs": [
    {
     "data": {
      "text/html": [
       "<div>\n",
       "<style scoped>\n",
       "    .dataframe tbody tr th:only-of-type {\n",
       "        vertical-align: middle;\n",
       "    }\n",
       "\n",
       "    .dataframe tbody tr th {\n",
       "        vertical-align: top;\n",
       "    }\n",
       "\n",
       "    .dataframe thead th {\n",
       "        text-align: right;\n",
       "    }\n",
       "</style>\n",
       "<table border=\"1\" class=\"dataframe\">\n",
       "  <thead>\n",
       "    <tr style=\"text-align: right;\">\n",
       "      <th></th>\n",
       "      <th>regression_model</th>\n",
       "      <th>feature_set</th>\n",
       "      <th>Train Error</th>\n",
       "      <th>Test Error</th>\n",
       "      <th>R2</th>\n",
       "    </tr>\n",
       "  </thead>\n",
       "  <tbody>\n",
       "    <tr>\n",
       "      <th>0</th>\n",
       "      <td>Ridge</td>\n",
       "      <td>full_dataset</td>\n",
       "      <td>34073.295340</td>\n",
       "      <td>30276.311720</td>\n",
       "      <td>0.558156</td>\n",
       "    </tr>\n",
       "    <tr>\n",
       "      <th>1</th>\n",
       "      <td>DecisionTree</td>\n",
       "      <td>full_dataset</td>\n",
       "      <td>20676.303321</td>\n",
       "      <td>27466.628375</td>\n",
       "      <td>0.731881</td>\n",
       "    </tr>\n",
       "    <tr>\n",
       "      <th>2</th>\n",
       "      <td>RandomForest</td>\n",
       "      <td>full_dataset</td>\n",
       "      <td>4684.090370</td>\n",
       "      <td>25088.232120</td>\n",
       "      <td>0.939259</td>\n",
       "    </tr>\n",
       "    <tr>\n",
       "      <th>3</th>\n",
       "      <td>XGBoost</td>\n",
       "      <td>full_dataset</td>\n",
       "      <td>5969.642279</td>\n",
       "      <td>23802.400335</td>\n",
       "      <td>0.922589</td>\n",
       "    </tr>\n",
       "    <tr>\n",
       "      <th>4</th>\n",
       "      <td>LGBM</td>\n",
       "      <td>full_dataset</td>\n",
       "      <td>14917.600885</td>\n",
       "      <td>21833.673551</td>\n",
       "      <td>0.806557</td>\n",
       "    </tr>\n",
       "  </tbody>\n",
       "</table>\n",
       "</div>"
      ],
      "text/plain": [
       "  regression_model   feature_set   Train Error    Test Error        R2\n",
       "0  Ridge            full_dataset  34073.295340  30276.311720  0.558156\n",
       "1  DecisionTree     full_dataset  20676.303321  27466.628375  0.731881\n",
       "2  RandomForest     full_dataset  4684.090370   25088.232120  0.939259\n",
       "3  XGBoost          full_dataset  5969.642279   23802.400335  0.922589\n",
       "4  LGBM             full_dataset  14917.600885  21833.673551  0.806557"
      ]
     },
     "execution_count": 149,
     "metadata": {},
     "output_type": "execute_result"
    }
   ],
   "source": [
    "pred_df = pd.DataFrame(pred_dict)\n",
    "pred_df.head(5)\n"
   ]
  },
  {
   "cell_type": "markdown",
   "metadata": {},
   "source": [
    "## Model Evaluation"
   ]
  },
  {
   "cell_type": "markdown",
   "metadata": {},
   "source": [
    "### Highest R Squared"
   ]
  },
  {
   "cell_type": "code",
   "execution_count": 150,
   "metadata": {},
   "outputs": [
    {
     "data": {
      "text/html": [
       "<div>\n",
       "<style scoped>\n",
       "    .dataframe tbody tr th:only-of-type {\n",
       "        vertical-align: middle;\n",
       "    }\n",
       "\n",
       "    .dataframe tbody tr th {\n",
       "        vertical-align: top;\n",
       "    }\n",
       "\n",
       "    .dataframe thead th {\n",
       "        text-align: right;\n",
       "    }\n",
       "</style>\n",
       "<table border=\"1\" class=\"dataframe\">\n",
       "  <thead>\n",
       "    <tr style=\"text-align: right;\">\n",
       "      <th></th>\n",
       "      <th>regression_model</th>\n",
       "      <th>feature_set</th>\n",
       "      <th>Train Error</th>\n",
       "      <th>Test Error</th>\n",
       "      <th>R2</th>\n",
       "    </tr>\n",
       "  </thead>\n",
       "  <tbody>\n",
       "    <tr>\n",
       "      <th>2</th>\n",
       "      <td>RandomForest</td>\n",
       "      <td>full_dataset</td>\n",
       "      <td>4684.090370</td>\n",
       "      <td>25088.232120</td>\n",
       "      <td>0.939259</td>\n",
       "    </tr>\n",
       "    <tr>\n",
       "      <th>14</th>\n",
       "      <td>RandomForest</td>\n",
       "      <td>five_best</td>\n",
       "      <td>5026.811957</td>\n",
       "      <td>27321.977829</td>\n",
       "      <td>0.934815</td>\n",
       "    </tr>\n",
       "    <tr>\n",
       "      <th>8</th>\n",
       "      <td>RandomForest</td>\n",
       "      <td>three_best</td>\n",
       "      <td>5720.306360</td>\n",
       "      <td>29012.236915</td>\n",
       "      <td>0.925822</td>\n",
       "    </tr>\n",
       "    <tr>\n",
       "      <th>3</th>\n",
       "      <td>XGBoost</td>\n",
       "      <td>full_dataset</td>\n",
       "      <td>5969.642279</td>\n",
       "      <td>23802.400335</td>\n",
       "      <td>0.922589</td>\n",
       "    </tr>\n",
       "    <tr>\n",
       "      <th>15</th>\n",
       "      <td>XGBoost</td>\n",
       "      <td>five_best</td>\n",
       "      <td>8244.279063</td>\n",
       "      <td>28755.617926</td>\n",
       "      <td>0.893093</td>\n",
       "    </tr>\n",
       "  </tbody>\n",
       "</table>\n",
       "</div>"
      ],
      "text/plain": [
       "   regression_model   feature_set  Train Error    Test Error        R2\n",
       "2   RandomForest     full_dataset  4684.090370  25088.232120  0.939259\n",
       "14  RandomForest     five_best     5026.811957  27321.977829  0.934815\n",
       "8   RandomForest     three_best    5720.306360  29012.236915  0.925822\n",
       "3   XGBoost          full_dataset  5969.642279  23802.400335  0.922589\n",
       "15  XGBoost          five_best     8244.279063  28755.617926  0.893093"
      ]
     },
     "execution_count": 150,
     "metadata": {},
     "output_type": "execute_result"
    }
   ],
   "source": [
    "pred_df.sort_values(by = \"R2\", ascending = False).head(5)"
   ]
  },
  {
   "cell_type": "markdown",
   "metadata": {},
   "source": [
    "### Min Test Error"
   ]
  },
  {
   "cell_type": "code",
   "execution_count": 151,
   "metadata": {},
   "outputs": [
    {
     "data": {
      "text/html": [
       "<div>\n",
       "<style scoped>\n",
       "    .dataframe tbody tr th:only-of-type {\n",
       "        vertical-align: middle;\n",
       "    }\n",
       "\n",
       "    .dataframe tbody tr th {\n",
       "        vertical-align: top;\n",
       "    }\n",
       "\n",
       "    .dataframe thead th {\n",
       "        text-align: right;\n",
       "    }\n",
       "</style>\n",
       "<table border=\"1\" class=\"dataframe\">\n",
       "  <thead>\n",
       "    <tr style=\"text-align: right;\">\n",
       "      <th></th>\n",
       "      <th>regression_model</th>\n",
       "      <th>feature_set</th>\n",
       "      <th>Train Error</th>\n",
       "      <th>Test Error</th>\n",
       "      <th>R2</th>\n",
       "    </tr>\n",
       "  </thead>\n",
       "  <tbody>\n",
       "    <tr>\n",
       "      <th>4</th>\n",
       "      <td>LGBM</td>\n",
       "      <td>full_dataset</td>\n",
       "      <td>14917.600885</td>\n",
       "      <td>21833.673551</td>\n",
       "      <td>0.806557</td>\n",
       "    </tr>\n",
       "    <tr>\n",
       "      <th>16</th>\n",
       "      <td>LGBM</td>\n",
       "      <td>five_best</td>\n",
       "      <td>17035.936081</td>\n",
       "      <td>23615.196051</td>\n",
       "      <td>0.779087</td>\n",
       "    </tr>\n",
       "    <tr>\n",
       "      <th>3</th>\n",
       "      <td>XGBoost</td>\n",
       "      <td>full_dataset</td>\n",
       "      <td>5969.642279</td>\n",
       "      <td>23802.400335</td>\n",
       "      <td>0.922589</td>\n",
       "    </tr>\n",
       "    <tr>\n",
       "      <th>2</th>\n",
       "      <td>RandomForest</td>\n",
       "      <td>full_dataset</td>\n",
       "      <td>4684.090370</td>\n",
       "      <td>25088.232120</td>\n",
       "      <td>0.939259</td>\n",
       "    </tr>\n",
       "    <tr>\n",
       "      <th>10</th>\n",
       "      <td>LGBM</td>\n",
       "      <td>three_best</td>\n",
       "      <td>19005.955760</td>\n",
       "      <td>25642.456835</td>\n",
       "      <td>0.753541</td>\n",
       "    </tr>\n",
       "  </tbody>\n",
       "</table>\n",
       "</div>"
      ],
      "text/plain": [
       "   regression_model   feature_set   Train Error    Test Error        R2\n",
       "4   LGBM             full_dataset  14917.600885  21833.673551  0.806557\n",
       "16  LGBM             five_best     17035.936081  23615.196051  0.779087\n",
       "3   XGBoost          full_dataset  5969.642279   23802.400335  0.922589\n",
       "2   RandomForest     full_dataset  4684.090370   25088.232120  0.939259\n",
       "10  LGBM             three_best    19005.955760  25642.456835  0.753541"
      ]
     },
     "execution_count": 151,
     "metadata": {},
     "output_type": "execute_result"
    }
   ],
   "source": [
    "pred_df.sort_values(by = \"Test Error\", ascending = True).head(5)"
   ]
  },
  {
   "cell_type": "markdown",
   "metadata": {},
   "source": [
    "### Min Train Error"
   ]
  },
  {
   "cell_type": "code",
   "execution_count": 152,
   "metadata": {},
   "outputs": [
    {
     "data": {
      "text/html": [
       "<div>\n",
       "<style scoped>\n",
       "    .dataframe tbody tr th:only-of-type {\n",
       "        vertical-align: middle;\n",
       "    }\n",
       "\n",
       "    .dataframe tbody tr th {\n",
       "        vertical-align: top;\n",
       "    }\n",
       "\n",
       "    .dataframe thead th {\n",
       "        text-align: right;\n",
       "    }\n",
       "</style>\n",
       "<table border=\"1\" class=\"dataframe\">\n",
       "  <thead>\n",
       "    <tr style=\"text-align: right;\">\n",
       "      <th></th>\n",
       "      <th>regression_model</th>\n",
       "      <th>feature_set</th>\n",
       "      <th>Train Error</th>\n",
       "      <th>Test Error</th>\n",
       "      <th>R2</th>\n",
       "    </tr>\n",
       "  </thead>\n",
       "  <tbody>\n",
       "    <tr>\n",
       "      <th>2</th>\n",
       "      <td>RandomForest</td>\n",
       "      <td>full_dataset</td>\n",
       "      <td>4684.090370</td>\n",
       "      <td>25088.232120</td>\n",
       "      <td>0.939259</td>\n",
       "    </tr>\n",
       "    <tr>\n",
       "      <th>14</th>\n",
       "      <td>RandomForest</td>\n",
       "      <td>five_best</td>\n",
       "      <td>5026.811957</td>\n",
       "      <td>27321.977829</td>\n",
       "      <td>0.934815</td>\n",
       "    </tr>\n",
       "    <tr>\n",
       "      <th>8</th>\n",
       "      <td>RandomForest</td>\n",
       "      <td>three_best</td>\n",
       "      <td>5720.306360</td>\n",
       "      <td>29012.236915</td>\n",
       "      <td>0.925822</td>\n",
       "    </tr>\n",
       "    <tr>\n",
       "      <th>3</th>\n",
       "      <td>XGBoost</td>\n",
       "      <td>full_dataset</td>\n",
       "      <td>5969.642279</td>\n",
       "      <td>23802.400335</td>\n",
       "      <td>0.922589</td>\n",
       "    </tr>\n",
       "    <tr>\n",
       "      <th>15</th>\n",
       "      <td>XGBoost</td>\n",
       "      <td>five_best</td>\n",
       "      <td>8244.279063</td>\n",
       "      <td>28755.617926</td>\n",
       "      <td>0.893093</td>\n",
       "    </tr>\n",
       "  </tbody>\n",
       "</table>\n",
       "</div>"
      ],
      "text/plain": [
       "   regression_model   feature_set  Train Error    Test Error        R2\n",
       "2   RandomForest     full_dataset  4684.090370  25088.232120  0.939259\n",
       "14  RandomForest     five_best     5026.811957  27321.977829  0.934815\n",
       "8   RandomForest     three_best    5720.306360  29012.236915  0.925822\n",
       "3   XGBoost          full_dataset  5969.642279  23802.400335  0.922589\n",
       "15  XGBoost          five_best     8244.279063  28755.617926  0.893093"
      ]
     },
     "execution_count": 152,
     "metadata": {},
     "output_type": "execute_result"
    }
   ],
   "source": [
    "pred_df.sort_values(by = \"Train Error\", ascending = True).head(5)"
   ]
  },
  {
   "cell_type": "markdown",
   "metadata": {},
   "source": [
    "## Grid Search in Random Forest"
   ]
  },
  {
   "cell_type": "code",
   "execution_count": 154,
   "metadata": {},
   "outputs": [
    {
     "data": {
      "text/plain": [
       "RandomForestRegressor(bootstrap=True, criterion='mse', max_depth=None,\n",
       "           max_features='auto', max_leaf_nodes=None,\n",
       "           min_impurity_decrease=0.0, min_impurity_split=None,\n",
       "           min_samples_leaf=1, min_samples_split=2,\n",
       "           min_weight_fraction_leaf=0.0, n_estimators=10, n_jobs=None,\n",
       "           oob_score=False, random_state=42, verbose=0, warm_start=False)"
      ]
     },
     "execution_count": 154,
     "metadata": {},
     "output_type": "execute_result"
    },
    {
     "name": "stdout",
     "output_type": "stream",
     "text": [
      "----Model name = Random Forest-----\n",
      "Train error = 4684.0903703709455\n",
      "Test error = 25088.232120000208\n",
      "r2_score = 0.939259235266886\n",
      "--------------------------------\n"
     ]
    }
   ],
   "source": [
    "x = result.drop(columns=['price'])\n",
    "y = result[\"price\"]\n",
    "\n",
    "x_train, x_test, y_train, y_test = train_test_split(\n",
    "x, y, \n",
    "test_size=0.2, random_state=42\n",
    ")\n",
    "\n",
    "model = RandomForestRegressor(random_state=42)\n",
    "\n",
    "model_name = \"Random Forest\"\n",
    "\n",
    "model.fit(x_train,y_train)\n",
    "\n",
    "y_predict=model.predict(x_train)\n",
    "train_error_f = mean_squared_error(y_train, y_predict)\n",
    "\n",
    "y_predict =model.predict(x_test)\n",
    "test_error_f = mean_squared_error(y_test, y_predict)\n",
    "\n",
    "y_predict=model.predict(x_train)\n",
    "r2_f = r2_score(y_train, y_predict)\n",
    "\n",
    "\n",
    "print(\"----Model name = {}-----\".format(model_name))\n",
    "print(\"Train error = \"'{}'.format(train_error_f))\n",
    "print(\"Test error = \"'{}'.format(test_error_f))\n",
    "print(\"r2_score = \"'{}'.format(r2_f))\n",
    "print(\"--------------------------------\")"
   ]
  },
  {
   "cell_type": "code",
   "execution_count": 155,
   "metadata": {},
   "outputs": [
    {
     "data": {
      "text/plain": [
       "{'bootstrap': True,\n",
       " 'criterion': 'mse',\n",
       " 'max_depth': None,\n",
       " 'max_features': 'auto',\n",
       " 'max_leaf_nodes': None,\n",
       " 'min_impurity_decrease': 0.0,\n",
       " 'min_impurity_split': None,\n",
       " 'min_samples_leaf': 1,\n",
       " 'min_samples_split': 2,\n",
       " 'min_weight_fraction_leaf': 0.0,\n",
       " 'n_estimators': 10,\n",
       " 'n_jobs': None,\n",
       " 'oob_score': False,\n",
       " 'random_state': 42,\n",
       " 'verbose': 0,\n",
       " 'warm_start': False}"
      ]
     },
     "execution_count": 155,
     "metadata": {},
     "output_type": "execute_result"
    }
   ],
   "source": [
    "model.get_params()"
   ]
  },
  {
   "cell_type": "code",
   "execution_count": 156,
   "metadata": {},
   "outputs": [
    {
     "data": {
      "text/plain": [
       "dict_keys(['explained_variance', 'r2', 'neg_median_absolute_error', 'neg_mean_absolute_error', 'neg_mean_squared_error', 'neg_mean_squared_log_error', 'accuracy', 'roc_auc', 'balanced_accuracy', 'average_precision', 'neg_log_loss', 'brier_score_loss', 'adjusted_rand_score', 'homogeneity_score', 'completeness_score', 'v_measure_score', 'mutual_info_score', 'adjusted_mutual_info_score', 'normalized_mutual_info_score', 'fowlkes_mallows_score', 'precision', 'precision_macro', 'precision_micro', 'precision_samples', 'precision_weighted', 'recall', 'recall_macro', 'recall_micro', 'recall_samples', 'recall_weighted', 'f1', 'f1_macro', 'f1_micro', 'f1_samples', 'f1_weighted'])"
      ]
     },
     "execution_count": 156,
     "metadata": {},
     "output_type": "execute_result"
    }
   ],
   "source": [
    "sklearn.metrics.SCORERS.keys()"
   ]
  },
  {
   "cell_type": "code",
   "execution_count": 168,
   "metadata": {},
   "outputs": [],
   "source": [
    "from sklearn.model_selection import GridSearchCV\n",
    "# Create the parameter grid based on the results of random search \n",
    "param_grid = {\n",
    "    \n",
    "  'bootstrap': [True],\n",
    " 'criterion': ['mse'],\n",
    " 'max_depth': [None],\n",
    " 'max_features': ['auto'],\n",
    " 'max_leaf_nodes': [None],\n",
    " 'min_impurity_decrease': [0.0],\n",
    " 'min_impurity_split': [None],\n",
    " 'min_samples_leaf': [1],\n",
    " 'min_samples_split': [2],\n",
    " 'min_weight_fraction_leaf': [0.0],\n",
    " 'n_estimators': [10],\n",
    " 'n_jobs': [None],\n",
    " 'oob_score': [False],\n",
    " 'random_state': [42],\n",
    " 'verbose': [0],\n",
    " 'warm_start': [False]\n",
    "    \n",
    "}\n",
    "# Create a based model\n",
    "rf = RandomForestRegressor()\n",
    "# Instantiate the grid search model\n",
    "grid_search = GridSearchCV(estimator = rf, param_grid = param_grid, \n",
    "                          cv = 3, n_jobs = -1, verbose = 0, scoring = 'neg_mean_squared_error')"
   ]
  },
  {
   "cell_type": "code",
   "execution_count": 169,
   "metadata": {},
   "outputs": [
    {
     "data": {
      "text/plain": [
       "GridSearchCV(cv=3, error_score='raise-deprecating',\n",
       "       estimator=RandomForestRegressor(bootstrap=True, criterion='mse', max_depth=None,\n",
       "           max_features='auto', max_leaf_nodes=None,\n",
       "           min_impurity_decrease=0.0, min_impurity_split=None,\n",
       "           min_samples_leaf=1, min_samples_split=2,\n",
       "           min_weight_fraction_leaf=0.0, n_estimators='warn', n_jobs=None,\n",
       "           oob_score=False, random_state=None, verbose=0, warm_start=False),\n",
       "       fit_params=None, iid='warn', n_jobs=-1,\n",
       "       param_grid={'bootstrap': [True], 'criterion': ['mse'], 'max_depth': [None], 'max_features': ['auto'], 'max_leaf_nodes': [None], 'min_impurity_decrease': [0.0], 'min_impurity_split': [None], 'min_samples_leaf': [1], 'min_samples_split': [2], 'min_weight_fraction_leaf': [0.0], 'n_estimators': [10], 'n_jobs': [None], 'oob_score': [False], 'random_state': [42], 'verbose': [0], 'warm_start': [False]},\n",
       "       pre_dispatch='2*n_jobs', refit=True, return_train_score='warn',\n",
       "       scoring='neg_mean_squared_error', verbose=0)"
      ]
     },
     "execution_count": 169,
     "metadata": {},
     "output_type": "execute_result"
    },
    {
     "name": "stdout",
     "output_type": "stream",
     "text": [
      "Execution time: 3.91 seconds which is: 0.07 minutes.\n"
     ]
    }
   ],
   "source": [
    "import time\n",
    "start = time.time()\n",
    "grid_search.fit(x_train, y_train)\n",
    "\n",
    "end = time.time()\n",
    "elapsed_time_seconds = end - start\n",
    "elapsed_time = (elapsed_time_seconds) / 60\n",
    "elapsed_time_seconds = round(elapsed_time_seconds,2)\n",
    "elapsed_time = round(elapsed_time,2)\n",
    "print('Execution time:', elapsed_time_seconds, 'seconds which is:', elapsed_time, 'minutes.' )"
   ]
  },
  {
   "cell_type": "code",
   "execution_count": 170,
   "metadata": {},
   "outputs": [],
   "source": [
    "best_params = grid_search.best_params_"
   ]
  },
  {
   "cell_type": "code",
   "execution_count": 172,
   "metadata": {},
   "outputs": [
    {
     "data": {
      "text/plain": [
       "RandomForestRegressor(bootstrap=True, criterion='mse', max_depth=None,\n",
       "           max_features='auto', max_leaf_nodes=None,\n",
       "           min_impurity_decrease=0.0, min_impurity_split=None,\n",
       "           min_samples_leaf=1, min_samples_split=2,\n",
       "           min_weight_fraction_leaf=0.0, n_estimators=10, n_jobs=None,\n",
       "           oob_score=False, random_state=42, verbose=0, warm_start=False)"
      ]
     },
     "execution_count": 172,
     "metadata": {},
     "output_type": "execute_result"
    },
    {
     "data": {
      "text/plain": [
       "RandomForestRegressor(bootstrap=True, criterion='mse', max_depth=None,\n",
       "           max_features='auto', max_leaf_nodes=None,\n",
       "           min_impurity_decrease=0.0, min_impurity_split=None,\n",
       "           min_samples_leaf=1, min_samples_split=2,\n",
       "           min_weight_fraction_leaf=0.0, n_estimators=10, n_jobs=None,\n",
       "           oob_score=False, random_state=42, verbose=0, warm_start=False)"
      ]
     },
     "execution_count": 172,
     "metadata": {},
     "output_type": "execute_result"
    },
    {
     "name": "stdout",
     "output_type": "stream",
     "text": [
      "----Model name = Random Forest-----\n",
      "Train error = 4684.0903703709455\n",
      "Test error = 25088.232120000208\n",
      "r2_score = 0.939259235266886\n",
      "--------------------------------\n"
     ]
    }
   ],
   "source": [
    "x = result.drop(columns=['price'])\n",
    "y = result[\"price\"]\n",
    "x_train, x_test, y_train, y_test = train_test_split(\n",
    "x, y, \n",
    "test_size=0.2, random_state=42\n",
    ")\n",
    "\n",
    "model = RandomForestRegressor()\n",
    "\n",
    "model.set_params(**best_params)\n",
    "\n",
    "model_name = \"Random Forest\"\n",
    "\n",
    "model.fit(x_train,y_train)\n",
    "\n",
    "y_predict= model.predict(x_train)\n",
    "train_error_gr = mean_squared_error(y_train, y_predict)\n",
    "\n",
    "y_predict =model.predict(x_test)\n",
    "test_error_gr = mean_squared_error(y_test, y_predict)\n",
    "\n",
    "y_predict=model.predict(x_train)\n",
    "r2_gr = r2_score(y_train, y_predict)\n",
    "\n",
    "\n",
    "print(\"----Model name = {}-----\".format(model_name))\n",
    "print(\"Train error = \"'{}'.format(train_error_gr))\n",
    "print(\"Test error = \"'{}'.format(test_error_gr))\n",
    "print(\"r2_score = \"'{}'.format(r2_gr))\n",
    "print(\"--------------------------------\")"
   ]
  },
  {
   "cell_type": "markdown",
   "metadata": {},
   "source": [
    "## Standard Scaling "
   ]
  },
  {
   "cell_type": "code",
   "execution_count": 174,
   "metadata": {},
   "outputs": [],
   "source": [
    "from sklearn.preprocessing import StandardScaler"
   ]
  },
  {
   "cell_type": "code",
   "execution_count": 176,
   "metadata": {},
   "outputs": [],
   "source": [
    "x = result.drop(columns=['price'])\n",
    "y = result[\"price\"]\n",
    "y = np.asanyarray(y).reshape(-1,1)"
   ]
  },
  {
   "cell_type": "code",
   "execution_count": 177,
   "metadata": {},
   "outputs": [
    {
     "data": {
      "text/plain": [
       "StandardScaler(copy=True, with_mean=True, with_std=True)"
      ]
     },
     "execution_count": 177,
     "metadata": {},
     "output_type": "execute_result"
    },
    {
     "data": {
      "text/plain": [
       "StandardScaler(copy=True, with_mean=True, with_std=True)"
      ]
     },
     "execution_count": 177,
     "metadata": {},
     "output_type": "execute_result"
    }
   ],
   "source": [
    "x_scaler = StandardScaler()\n",
    "x_scaler.fit(X=x, y=y)\n",
    "x_scaled = x_scaler.transform(x)\n",
    "y_scaler = StandardScaler()\n",
    "y_scaler.fit(y)\n",
    "y_scaled = y_scaler.transform(y)"
   ]
  },
  {
   "cell_type": "code",
   "execution_count": 178,
   "metadata": {},
   "outputs": [],
   "source": [
    "x_train_scaled, x_test_scaled, y_train_scaled, y_test_scaled = train_test_split(\n",
    "        x_scaled, y_scaled, test_size=0.2, random_state=42)"
   ]
  },
  {
   "cell_type": "code",
   "execution_count": 185,
   "metadata": {},
   "outputs": [
    {
     "data": {
      "text/plain": [
       "RandomForestRegressor(bootstrap=True, criterion='mse', max_depth=None,\n",
       "           max_features='auto', max_leaf_nodes=None,\n",
       "           min_impurity_decrease=0.0, min_impurity_split=None,\n",
       "           min_samples_leaf=1, min_samples_split=2,\n",
       "           min_weight_fraction_leaf=0.0, n_estimators=10, n_jobs=None,\n",
       "           oob_score=False, random_state=42, verbose=0, warm_start=False)"
      ]
     },
     "execution_count": 185,
     "metadata": {},
     "output_type": "execute_result"
    },
    {
     "data": {
      "text/plain": [
       "RandomForestRegressor(bootstrap=True, criterion='mse', max_depth=None,\n",
       "           max_features='auto', max_leaf_nodes=None,\n",
       "           min_impurity_decrease=0.0, min_impurity_split=None,\n",
       "           min_samples_leaf=1, min_samples_split=2,\n",
       "           min_weight_fraction_leaf=0.0, n_estimators=10, n_jobs=None,\n",
       "           oob_score=False, random_state=42, verbose=0, warm_start=False)"
      ]
     },
     "execution_count": 185,
     "metadata": {},
     "output_type": "execute_result"
    }
   ],
   "source": [
    "model = RandomForestRegressor()\n",
    "model.set_params(**best_params)\n",
    "model.fit(x_train_scaled,y_train_scaled)\n",
    "\n",
    "y_predict_scaled=model.predict(x_train_scaled)\n",
    "y_predict_train_standard = y_scaler.inverse_transform(y_predict_scaled.reshape(-1, 1))\n",
    "rmse_error_train_standard = mean_squared_error(y_train, y_predict_train_standard[:,0])\n",
    "r2_standard = r2_score(y_train, y_predict_train_standard)"
   ]
  },
  {
   "cell_type": "code",
   "execution_count": 186,
   "metadata": {},
   "outputs": [
    {
     "data": {
      "text/plain": [
       "RandomForestRegressor(bootstrap=True, criterion='mse', max_depth=None,\n",
       "           max_features='auto', max_leaf_nodes=None,\n",
       "           min_impurity_decrease=0.0, min_impurity_split=None,\n",
       "           min_samples_leaf=1, min_samples_split=2,\n",
       "           min_weight_fraction_leaf=0.0, n_estimators=10, n_jobs=None,\n",
       "           oob_score=False, random_state=42, verbose=0, warm_start=False)"
      ]
     },
     "execution_count": 186,
     "metadata": {},
     "output_type": "execute_result"
    },
    {
     "data": {
      "text/plain": [
       "RandomForestRegressor(bootstrap=True, criterion='mse', max_depth=None,\n",
       "           max_features='auto', max_leaf_nodes=None,\n",
       "           min_impurity_decrease=0.0, min_impurity_split=None,\n",
       "           min_samples_leaf=1, min_samples_split=2,\n",
       "           min_weight_fraction_leaf=0.0, n_estimators=10, n_jobs=None,\n",
       "           oob_score=False, random_state=42, verbose=0, warm_start=False)"
      ]
     },
     "execution_count": 186,
     "metadata": {},
     "output_type": "execute_result"
    }
   ],
   "source": [
    "model = RandomForestRegressor()\n",
    "model.set_params(**best_params)\n",
    "model.fit(x_test_scaled,y_test_scaled)\n",
    "\n",
    "\n",
    "y_predict_scaled_t=model.predict(x_test_scaled)\n",
    "y_predict_test_standard = y_scaler.inverse_transform(y_predict_scaled_t.reshape(-1, 1))\n",
    "rmse_error_test_standard = mean_squared_error(y_test, y_predict_test_standard[:,0])"
   ]
  },
  {
   "cell_type": "code",
   "execution_count": 187,
   "metadata": {},
   "outputs": [
    {
     "name": "stdout",
     "output_type": "stream",
     "text": [
      "Normalized Train error = 4634.246278125622\n",
      "Normalized Test error = 4480.583963012763\n",
      "Normalized r2_score = 0.9399055866480549\n"
     ]
    }
   ],
   "source": [
    "print(\"Normalized Train error = \"'{}'.format(rmse_error_train_standard))\n",
    "print(\"Normalized Test error = \"'{}'.format(rmse_error_test_standard))\n",
    "print(\"Normalized r2_score = \"'{}'.format(r2_standard))"
   ]
  },
  {
   "cell_type": "code",
   "execution_count": null,
   "metadata": {},
   "outputs": [],
   "source": []
  },
  {
   "cell_type": "code",
   "execution_count": null,
   "metadata": {},
   "outputs": [],
   "source": []
  },
  {
   "cell_type": "code",
   "execution_count": null,
   "metadata": {},
   "outputs": [],
   "source": []
  },
  {
   "cell_type": "code",
   "execution_count": null,
   "metadata": {},
   "outputs": [],
   "source": []
  },
  {
   "cell_type": "markdown",
   "metadata": {},
   "source": [
    "# Neural Network"
   ]
  },
  {
   "cell_type": "code",
   "execution_count": 188,
   "metadata": {},
   "outputs": [],
   "source": [
    "y = result[\"price\"]\n",
    "x = result.drop(columns=['price'])"
   ]
  },
  {
   "cell_type": "code",
   "execution_count": 189,
   "metadata": {},
   "outputs": [],
   "source": [
    "x_train, x_test, y_train, y_test = train_test_split(\n",
    "x, y, \n",
    "test_size=0.2, random_state=42\n",
    ")"
   ]
  },
  {
   "cell_type": "code",
   "execution_count": 224,
   "metadata": {},
   "outputs": [],
   "source": [
    "nn_model = Sequential(\n",
    "    [ \n",
    "        Dense(25, activation = 'relu'),\n",
    "        Dense(15, activation = 'relu'),\n",
    "        Dense(1, activation = 'relu')    # outputlayer\n",
    "    ]\n",
    ")\n",
    "nn_model.compile(\n",
    "    loss=tf.losses.MeanSquaredError(),\n",
    "    optimizer=tf.keras.optimizers.Adam(0.01),\n",
    ")"
   ]
  },
  {
   "cell_type": "code",
   "execution_count": 225,
   "metadata": {},
   "outputs": [
    {
     "name": "stdout",
     "output_type": "stream",
     "text": [
      "Epoch 1/100\n",
      "WARNING:tensorflow:Layer dense_9 is casting an input tensor from dtype float64 to the layer's dtype of float32, which is new behavior in TensorFlow 2.  The layer has dtype float32 because its dtype defaults to floatx.\n",
      "\n",
      "If you intended to run this layer in float32, you can safely ignore this warning. If in doubt, this warning is likely only an issue if you are porting a TensorFlow 1.X model to TensorFlow 2.\n",
      "\n",
      "To change all layers to have dtype float64 by default, call `tf.keras.backend.set_floatx('float64')`. To change just this layer, pass dtype='float64' to the layer constructor. If you are the author of this layer, you can disable autocasting by passing autocast=False to the base Layer constructor.\n",
      "\n",
      "250/250 [==============================] - 0s 994us/step - loss: 131132.0156\n",
      "Epoch 2/100\n",
      "250/250 [==============================] - 0s 988us/step - loss: 46631.3633\n",
      "Epoch 3/100\n",
      "250/250 [==============================] - 0s 924us/step - loss: 45935.3789\n",
      "Epoch 4/100\n",
      "250/250 [==============================] - 0s 968us/step - loss: 44371.5078\n",
      "Epoch 5/100\n",
      "250/250 [==============================] - 0s 1ms/step - loss: 44575.8125\n",
      "Epoch 6/100\n",
      "250/250 [==============================] - 0s 1ms/step - loss: 44108.5664\n",
      "Epoch 7/100\n",
      "250/250 [==============================] - 0s 908us/step - loss: 42256.0859\n",
      "Epoch 8/100\n",
      "250/250 [==============================] - 0s 928us/step - loss: 44100.8125\n",
      "Epoch 9/100\n",
      "250/250 [==============================] - 0s 1ms/step - loss: 42578.6523\n",
      "Epoch 10/100\n",
      "250/250 [==============================] - 0s 876us/step - loss: 41759.6953\n",
      "Epoch 11/100\n",
      "250/250 [==============================] - 0s 996us/step - loss: 41184.2891\n",
      "Epoch 12/100\n",
      "250/250 [==============================] - 0s 1ms/step - loss: 40410.2344\n",
      "Epoch 13/100\n",
      "250/250 [==============================] - 0s 968us/step - loss: 40315.0430\n",
      "Epoch 14/100\n",
      "250/250 [==============================] - 0s 956us/step - loss: 40378.0547\n",
      "Epoch 15/100\n",
      "250/250 [==============================] - 0s 1ms/step - loss: 40908.2891\n",
      "Epoch 16/100\n",
      "250/250 [==============================] - 0s 928us/step - loss: 38985.5273\n",
      "Epoch 17/100\n",
      "250/250 [==============================] - 0s 1ms/step - loss: 38383.2148\n",
      "Epoch 18/100\n",
      "250/250 [==============================] - 0s 1ms/step - loss: 40075.5234\n",
      "Epoch 19/100\n",
      "250/250 [==============================] - 0s 1ms/step - loss: 39954.8086\n",
      "Epoch 20/100\n",
      "250/250 [==============================] - 0s 1ms/step - loss: 38192.1758\n",
      "Epoch 21/100\n",
      "250/250 [==============================] - 0s 992us/step - loss: 39435.4922\n",
      "Epoch 22/100\n",
      "250/250 [==============================] - 0s 1ms/step - loss: 37680.6602\n",
      "Epoch 23/100\n",
      "250/250 [==============================] - 0s 2ms/step - loss: 37512.2773\n",
      "Epoch 24/100\n",
      "250/250 [==============================] - 0s 2ms/step - loss: 38459.8594\n",
      "Epoch 25/100\n",
      "250/250 [==============================] - 0s 2ms/step - loss: 37741.7539\n",
      "Epoch 26/100\n",
      "250/250 [==============================] - 0s 2ms/step - loss: 38847.7109\n",
      "Epoch 27/100\n",
      "250/250 [==============================] - 0s 2ms/step - loss: 37218.1211\n",
      "Epoch 28/100\n",
      "250/250 [==============================] - 0s 2ms/step - loss: 38675.8750\n",
      "Epoch 29/100\n",
      "250/250 [==============================] - 0s 2ms/step - loss: 38043.2344\n",
      "Epoch 30/100\n",
      "250/250 [==============================] - 0s 2ms/step - loss: 37291.3086\n",
      "Epoch 31/100\n",
      "250/250 [==============================] - 0s 2ms/step - loss: 37226.9844\n",
      "Epoch 32/100\n",
      "250/250 [==============================] - 0s 2ms/step - loss: 35975.1758\n",
      "Epoch 33/100\n",
      "250/250 [==============================] - 0s 2ms/step - loss: 37568.9141A: 0s - loss: 31\n",
      "Epoch 34/100\n",
      "250/250 [==============================] - 0s 2ms/step - loss: 37116.5312\n",
      "Epoch 35/100\n",
      "250/250 [==============================] - 0s 2ms/step - loss: 37437.3203\n",
      "Epoch 36/100\n",
      "250/250 [==============================] - 0s 2ms/step - loss: 37191.7812\n",
      "Epoch 37/100\n",
      "250/250 [==============================] - 0s 2ms/step - loss: 36029.4688\n",
      "Epoch 38/100\n",
      "250/250 [==============================] - 0s 2ms/step - loss: 36004.5430\n",
      "Epoch 39/100\n",
      "250/250 [==============================] - 0s 2ms/step - loss: 36804.4844\n",
      "Epoch 40/100\n",
      "250/250 [==============================] - 0s 2ms/step - loss: 36298.4453\n",
      "Epoch 41/100\n",
      "250/250 [==============================] - 0s 2ms/step - loss: 35949.2695\n",
      "Epoch 42/100\n",
      "250/250 [==============================] - 0s 2ms/step - loss: 36983.8086\n",
      "Epoch 43/100\n",
      "250/250 [==============================] - 0s 2ms/step - loss: 35447.4570\n",
      "Epoch 44/100\n",
      "250/250 [==============================] - 0s 2ms/step - loss: 36533.6328\n",
      "Epoch 45/100\n",
      "250/250 [==============================] - 0s 2ms/step - loss: 35706.3398\n",
      "Epoch 46/100\n",
      "250/250 [==============================] - 0s 2ms/step - loss: 35416.5312\n",
      "Epoch 47/100\n",
      "250/250 [==============================] - 0s 2ms/step - loss: 36200.1484\n",
      "Epoch 48/100\n",
      "250/250 [==============================] - 0s 2ms/step - loss: 37755.0195\n",
      "Epoch 49/100\n",
      "250/250 [==============================] - 0s 2ms/step - loss: 35830.4453\n",
      "Epoch 50/100\n",
      "250/250 [==============================] - 0s 2ms/step - loss: 35840.8242\n",
      "Epoch 51/100\n",
      "250/250 [==============================] - 0s 1ms/step - loss: 35894.1602\n",
      "Epoch 52/100\n",
      "250/250 [==============================] - 0s 2ms/step - loss: 35263.4062\n",
      "Epoch 53/100\n",
      "250/250 [==============================] - 0s 2ms/step - loss: 35909.1797\n",
      "Epoch 54/100\n",
      "250/250 [==============================] - 0s 2ms/step - loss: 36118.9688\n",
      "Epoch 55/100\n",
      "250/250 [==============================] - 0s 2ms/step - loss: 36844.9453\n",
      "Epoch 56/100\n",
      "250/250 [==============================] - 0s 2ms/step - loss: 35527.5312\n",
      "Epoch 57/100\n",
      "250/250 [==============================] - 0s 2ms/step - loss: 35729.3867\n",
      "Epoch 58/100\n",
      "250/250 [==============================] - 0s 2ms/step - loss: 35086.2344\n",
      "Epoch 59/100\n",
      "250/250 [==============================] - 0s 2ms/step - loss: 36036.0156\n",
      "Epoch 60/100\n",
      "250/250 [==============================] - 0s 2ms/step - loss: 36019.4180\n",
      "Epoch 61/100\n",
      "250/250 [==============================] - 0s 2ms/step - loss: 35848.7734\n",
      "Epoch 62/100\n",
      "250/250 [==============================] - 0s 2ms/step - loss: 35424.7266\n",
      "Epoch 63/100\n",
      "250/250 [==============================] - 0s 2ms/step - loss: 35040.1367\n",
      "Epoch 64/100\n",
      "250/250 [==============================] - 0s 2ms/step - loss: 35372.3555\n",
      "Epoch 65/100\n",
      "250/250 [==============================] - 0s 2ms/step - loss: 35925.1641\n",
      "Epoch 66/100\n",
      "250/250 [==============================] - 0s 2ms/step - loss: 35515.1992\n",
      "Epoch 67/100\n",
      "250/250 [==============================] - 0s 2ms/step - loss: 35373.0664\n",
      "Epoch 68/100\n",
      "250/250 [==============================] - 0s 2ms/step - loss: 34527.0156\n",
      "Epoch 69/100\n",
      "250/250 [==============================] - 0s 2ms/step - loss: 35205.6172\n",
      "Epoch 70/100\n",
      "250/250 [==============================] - 0s 2ms/step - loss: 35994.6016\n",
      "Epoch 71/100\n",
      "250/250 [==============================] - 0s 2ms/step - loss: 35119.1641\n",
      "Epoch 72/100\n",
      "250/250 [==============================] - 0s 2ms/step - loss: 33921.0703\n",
      "Epoch 73/100\n",
      "250/250 [==============================] - 1s 2ms/step - loss: 35578.4688\n",
      "Epoch 74/100\n",
      "250/250 [==============================] - 0s 2ms/step - loss: 35122.1328\n",
      "Epoch 75/100\n",
      "250/250 [==============================] - 0s 2ms/step - loss: 35390.9883\n",
      "Epoch 76/100\n",
      "250/250 [==============================] - 0s 2ms/step - loss: 34926.7188\n",
      "Epoch 77/100\n",
      "250/250 [==============================] - 0s 2ms/step - loss: 35414.5547\n",
      "Epoch 78/100\n",
      "250/250 [==============================] - 0s 2ms/step - loss: 35587.7617\n",
      "Epoch 79/100\n",
      "250/250 [==============================] - 0s 2ms/step - loss: 35600.4648\n",
      "Epoch 80/100\n",
      "250/250 [==============================] - 0s 2ms/step - loss: 35244.7344\n",
      "Epoch 81/100\n",
      "250/250 [==============================] - 0s 2ms/step - loss: 35318.2305\n",
      "Epoch 82/100\n",
      "250/250 [==============================] - 0s 2ms/step - loss: 34244.8359\n",
      "Epoch 83/100\n",
      "250/250 [==============================] - 0s 2ms/step - loss: 35102.8203\n",
      "Epoch 84/100\n",
      "250/250 [==============================] - 0s 2ms/step - loss: 34809.9023\n",
      "Epoch 85/100\n",
      "250/250 [==============================] - 0s 2ms/step - loss: 34739.1211\n",
      "Epoch 86/100\n"
     ]
    },
    {
     "name": "stdout",
     "output_type": "stream",
     "text": [
      "250/250 [==============================] - 0s 2ms/step - loss: 35362.7773\n",
      "Epoch 87/100\n",
      "250/250 [==============================] - 0s 1ms/step - loss: 34782.4766\n",
      "Epoch 88/100\n",
      "250/250 [==============================] - 0s 2ms/step - loss: 34318.9961\n",
      "Epoch 89/100\n",
      "250/250 [==============================] - 0s 2ms/step - loss: 34174.8711\n",
      "Epoch 90/100\n",
      "250/250 [==============================] - 0s 2ms/step - loss: 34982.9766\n",
      "Epoch 91/100\n",
      "250/250 [==============================] - 0s 2ms/step - loss: 34334.6367\n",
      "Epoch 92/100\n",
      "250/250 [==============================] - 0s 2ms/step - loss: 36278.6367\n",
      "Epoch 93/100\n",
      "250/250 [==============================] - 0s 2ms/step - loss: 34577.4102\n",
      "Epoch 94/100\n",
      "250/250 [==============================] - 0s 2ms/step - loss: 34651.6328\n",
      "Epoch 95/100\n",
      "250/250 [==============================] - 0s 2ms/step - loss: 34797.8008\n",
      "Epoch 96/100\n",
      "250/250 [==============================] - 0s 2ms/step - loss: 35709.2656\n",
      "Epoch 97/100\n",
      "250/250 [==============================] - 0s 2ms/step - loss: 35961.0547\n",
      "Epoch 98/100\n",
      "250/250 [==============================] - 0s 2ms/step - loss: 35187.5664\n",
      "Epoch 99/100\n",
      "250/250 [==============================] - 0s 2ms/step - loss: 34090.7695\n",
      "Epoch 100/100\n",
      "250/250 [==============================] - 0s 2ms/step - loss: 34663.3203\n"
     ]
    },
    {
     "data": {
      "text/plain": [
       "<tensorflow.python.keras.callbacks.History at 0x1a22f31a5c0>"
      ]
     },
     "execution_count": 225,
     "metadata": {},
     "output_type": "execute_result"
    }
   ],
   "source": [
    "nn_model.fit(\n",
    "    x_train,y_train,\n",
    "    epochs=100\n",
    ")"
   ]
  },
  {
   "cell_type": "code",
   "execution_count": 226,
   "metadata": {},
   "outputs": [],
   "source": [
    "y_train_pred = nn_model.predict(x_train)"
   ]
  },
  {
   "cell_type": "code",
   "execution_count": 227,
   "metadata": {},
   "outputs": [],
   "source": [
    "r2_second = r2_score(y_train, y_train_pred)"
   ]
  },
  {
   "cell_type": "code",
   "execution_count": 228,
   "metadata": {},
   "outputs": [
    {
     "data": {
      "text/plain": [
       "0.5532779990221521"
      ]
     },
     "execution_count": 228,
     "metadata": {},
     "output_type": "execute_result"
    }
   ],
   "source": [
    "r2_second"
   ]
  },
  {
   "cell_type": "code",
   "execution_count": 230,
   "metadata": {},
   "outputs": [],
   "source": [
    "mse = tf.keras.losses.MeanSquaredError()"
   ]
  },
  {
   "cell_type": "code",
   "execution_count": 231,
   "metadata": {},
   "outputs": [
    {
     "data": {
      "text/plain": [
       "120232.43"
      ]
     },
     "execution_count": 231,
     "metadata": {},
     "output_type": "execute_result"
    }
   ],
   "source": [
    "mse(y_train, y_train_pred).numpy()"
   ]
  },
  {
   "cell_type": "markdown",
   "metadata": {},
   "source": [
    "## optimizing?"
   ]
  },
  {
   "cell_type": "code",
   "execution_count": 232,
   "metadata": {},
   "outputs": [],
   "source": [
    "nn_model = Sequential(\n",
    "    [ \n",
    "        Dense(64, activation = 'relu'),\n",
    "        Dense(32, activation = 'relu'),\n",
    "        Dense(16, activation = 'relu'),\n",
    "        Dense(8, activation = 'relu'),\n",
    "        Dense(1, activation = 'relu')    # outputlayer\n",
    "    ]\n",
    ")\n",
    "nn_model.compile(\n",
    "    loss=tf.losses.MeanSquaredError(),\n",
    "    optimizer=tf.keras.optimizers.Adam(0.01),\n",
    ")"
   ]
  },
  {
   "cell_type": "code",
   "execution_count": 233,
   "metadata": {},
   "outputs": [
    {
     "name": "stdout",
     "output_type": "stream",
     "text": [
      "Epoch 1/100\n",
      "WARNING:tensorflow:Layer dense_12 is casting an input tensor from dtype float64 to the layer's dtype of float32, which is new behavior in TensorFlow 2.  The layer has dtype float32 because its dtype defaults to floatx.\n",
      "\n",
      "If you intended to run this layer in float32, you can safely ignore this warning. If in doubt, this warning is likely only an issue if you are porting a TensorFlow 1.X model to TensorFlow 2.\n",
      "\n",
      "To change all layers to have dtype float64 by default, call `tf.keras.backend.set_floatx('float64')`. To change just this layer, pass dtype='float64' to the layer constructor. If you are the author of this layer, you can disable autocasting by passing autocast=False to the base Layer constructor.\n",
      "\n",
      "250/250 [==============================] - 0s 1ms/step - loss: 61888.2578\n",
      "Epoch 2/100\n",
      "250/250 [==============================] - 0s 1ms/step - loss: 47016.5781\n",
      "Epoch 3/100\n",
      "250/250 [==============================] - 0s 1ms/step - loss: 46391.8047\n",
      "Epoch 4/100\n",
      "250/250 [==============================] - 0s 2ms/step - loss: 45554.4922\n",
      "Epoch 5/100\n",
      "250/250 [==============================] - 0s 1ms/step - loss: 43328.6016\n",
      "Epoch 6/100\n",
      "250/250 [==============================] - 0s 1ms/step - loss: 46764.9375\n",
      "Epoch 7/100\n",
      "250/250 [==============================] - 0s 1ms/step - loss: 42155.0117\n",
      "Epoch 8/100\n",
      "250/250 [==============================] - 0s 1ms/step - loss: 43028.3906\n",
      "Epoch 9/100\n",
      "250/250 [==============================] - 0s 1ms/step - loss: 42227.4570\n",
      "Epoch 10/100\n",
      "250/250 [==============================] - 0s 1ms/step - loss: 41765.3047\n",
      "Epoch 11/100\n",
      "250/250 [==============================] - 0s 1ms/step - loss: 40164.3477\n",
      "Epoch 12/100\n",
      "250/250 [==============================] - 0s 1ms/step - loss: 39677.0430\n",
      "Epoch 13/100\n",
      "250/250 [==============================] - 0s 1ms/step - loss: 42068.9492\n",
      "Epoch 14/100\n",
      "250/250 [==============================] - 0s 2ms/step - loss: 40697.0312\n",
      "Epoch 15/100\n",
      "250/250 [==============================] - 0s 1ms/step - loss: 40318.4727\n",
      "Epoch 16/100\n",
      "250/250 [==============================] - 0s 2ms/step - loss: 39167.2188\n",
      "Epoch 17/100\n",
      "250/250 [==============================] - 0s 2ms/step - loss: 40006.0859\n",
      "Epoch 18/100\n",
      "250/250 [==============================] - 0s 1ms/step - loss: 39790.4570\n",
      "Epoch 19/100\n",
      "250/250 [==============================] - 0s 2ms/step - loss: 39595.0898\n",
      "Epoch 20/100\n",
      "250/250 [==============================] - 0s 1ms/step - loss: 38053.2539\n",
      "Epoch 21/100\n",
      "250/250 [==============================] - 0s 1ms/step - loss: 38203.5391\n",
      "Epoch 22/100\n",
      "250/250 [==============================] - 0s 1ms/step - loss: 36759.0508\n",
      "Epoch 23/100\n",
      "250/250 [==============================] - 0s 1ms/step - loss: 38867.8516\n",
      "Epoch 24/100\n",
      "250/250 [==============================] - 0s 2ms/step - loss: 37747.4062\n",
      "Epoch 25/100\n",
      "250/250 [==============================] - 1s 3ms/step - loss: 40399.4492\n",
      "Epoch 26/100\n",
      "250/250 [==============================] - 0s 1ms/step - loss: 38672.8359\n",
      "Epoch 27/100\n",
      "250/250 [==============================] - 0s 1ms/step - loss: 38138.5625\n",
      "Epoch 28/100\n",
      "250/250 [==============================] - 1s 2ms/step - loss: 38002.4492\n",
      "Epoch 29/100\n",
      "250/250 [==============================] - 0s 2ms/step - loss: 36789.7070\n",
      "Epoch 30/100\n",
      "250/250 [==============================] - 0s 908us/step - loss: 37833.6992\n",
      "Epoch 31/100\n",
      "250/250 [==============================] - 0s 2ms/step - loss: 36384.1406\n",
      "Epoch 32/100\n",
      "250/250 [==============================] - 1s 2ms/step - loss: 37528.7969\n",
      "Epoch 33/100\n",
      "250/250 [==============================] - 0s 2ms/step - loss: 36889.3867\n",
      "Epoch 34/100\n",
      "250/250 [==============================] - 0s 2ms/step - loss: 37626.1836\n",
      "Epoch 35/100\n",
      "250/250 [==============================] - 1s 3ms/step - loss: 36634.3086\n",
      "Epoch 36/100\n",
      "250/250 [==============================] - 0s 2ms/step - loss: 36621.9062\n",
      "Epoch 37/100\n",
      "250/250 [==============================] - 1s 2ms/step - loss: 37820.3906\n",
      "Epoch 38/100\n",
      "250/250 [==============================] - 0s 2ms/step - loss: 36374.6680\n",
      "Epoch 39/100\n",
      "250/250 [==============================] - 0s 2ms/step - loss: 36218.4883\n",
      "Epoch 40/100\n",
      "250/250 [==============================] - 0s 2ms/step - loss: 35873.1641\n",
      "Epoch 41/100\n",
      "250/250 [==============================] - 0s 2ms/step - loss: 35674.1094\n",
      "Epoch 42/100\n",
      "250/250 [==============================] - 0s 2ms/step - loss: 36619.2852\n",
      "Epoch 43/100\n",
      "250/250 [==============================] - 1s 2ms/step - loss: 36024.8203\n",
      "Epoch 44/100\n",
      "250/250 [==============================] - 0s 2ms/step - loss: 36511.7305\n",
      "Epoch 45/100\n",
      "250/250 [==============================] - 0s 2ms/step - loss: 35346.3320\n",
      "Epoch 46/100\n",
      "250/250 [==============================] - 0s 2ms/step - loss: 35555.3242\n",
      "Epoch 47/100\n",
      "250/250 [==============================] - 1s 2ms/step - loss: 36157.7773\n",
      "Epoch 48/100\n",
      "250/250 [==============================] - 0s 2ms/step - loss: 36091.7656\n",
      "Epoch 49/100\n",
      "250/250 [==============================] - 0s 2ms/step - loss: 34786.5586\n",
      "Epoch 50/100\n",
      "250/250 [==============================] - 1s 2ms/step - loss: 36388.4023\n",
      "Epoch 51/100\n",
      "250/250 [==============================] - 0s 2ms/step - loss: 36315.3906\n",
      "Epoch 52/100\n",
      "250/250 [==============================] - 1s 2ms/step - loss: 36581.3242\n",
      "Epoch 53/100\n",
      "250/250 [==============================] - 0s 2ms/step - loss: 35763.3203\n",
      "Epoch 54/100\n",
      "250/250 [==============================] - 0s 2ms/step - loss: 35162.4375\n",
      "Epoch 55/100\n",
      "250/250 [==============================] - 0s 2ms/step - loss: 36375.2773\n",
      "Epoch 56/100\n",
      "250/250 [==============================] - 0s 2ms/step - loss: 35797.0352\n",
      "Epoch 57/100\n",
      "250/250 [==============================] - 0s 2ms/step - loss: 35255.5664\n",
      "Epoch 58/100\n",
      "250/250 [==============================] - 0s 2ms/step - loss: 34577.7773\n",
      "Epoch 59/100\n",
      "250/250 [==============================] - 0s 2ms/step - loss: 35703.1992\n",
      "Epoch 60/100\n",
      "250/250 [==============================] - 0s 2ms/step - loss: 35602.5000A: 0s - loss: 711\n",
      "Epoch 61/100\n",
      "250/250 [==============================] - 0s 2ms/step - loss: 35473.2539\n",
      "Epoch 62/100\n",
      "250/250 [==============================] - 1s 2ms/step - loss: 35627.3047\n",
      "Epoch 63/100\n",
      "250/250 [==============================] - 0s 2ms/step - loss: 35059.1055\n",
      "Epoch 64/100\n",
      "250/250 [==============================] - 0s 2ms/step - loss: 34443.5273\n",
      "Epoch 65/100\n",
      "250/250 [==============================] - 1s 2ms/step - loss: 36576.4023\n",
      "Epoch 66/100\n",
      "250/250 [==============================] - 1s 2ms/step - loss: 35452.8281\n",
      "Epoch 67/100\n",
      "250/250 [==============================] - 1s 2ms/step - loss: 35942.0625\n",
      "Epoch 68/100\n",
      "250/250 [==============================] - 0s 2ms/step - loss: 35676.9570\n",
      "Epoch 69/100\n",
      "250/250 [==============================] - 0s 2ms/step - loss: 35685.5391\n",
      "Epoch 70/100\n",
      "250/250 [==============================] - 1s 2ms/step - loss: 34686.0156\n",
      "Epoch 71/100\n",
      "250/250 [==============================] - 0s 2ms/step - loss: 34839.5586\n",
      "Epoch 72/100\n",
      "250/250 [==============================] - 0s 2ms/step - loss: 36190.8281\n",
      "Epoch 73/100\n",
      "250/250 [==============================] - 0s 2ms/step - loss: 35161.5938\n",
      "Epoch 74/100\n",
      "250/250 [==============================] - 0s 2ms/step - loss: 34767.5352\n",
      "Epoch 75/100\n",
      "250/250 [==============================] - 0s 2ms/step - loss: 36681.9727\n",
      "Epoch 76/100\n",
      "250/250 [==============================] - 0s 2ms/step - loss: 34638.0391\n",
      "Epoch 77/100\n",
      "250/250 [==============================] - 0s 2ms/step - loss: 35523.4648\n",
      "Epoch 78/100\n",
      "250/250 [==============================] - 1s 2ms/step - loss: 35556.8711\n",
      "Epoch 79/100\n",
      "250/250 [==============================] - 1s 2ms/step - loss: 34842.7539\n",
      "Epoch 80/100\n",
      "250/250 [==============================] - 0s 2ms/step - loss: 35140.5273\n",
      "Epoch 81/100\n",
      "250/250 [==============================] - 0s 2ms/step - loss: 35392.2422\n",
      "Epoch 82/100\n",
      "250/250 [==============================] - 0s 2ms/step - loss: 34529.0000\n",
      "Epoch 83/100\n",
      "250/250 [==============================] - 1s 2ms/step - loss: 34339.9570\n",
      "Epoch 84/100\n",
      "250/250 [==============================] - 0s 2ms/step - loss: 35263.8750\n",
      "Epoch 85/100\n",
      "250/250 [==============================] - 0s 2ms/step - loss: 35032.1797\n",
      "Epoch 86/100\n"
     ]
    },
    {
     "name": "stdout",
     "output_type": "stream",
     "text": [
      "250/250 [==============================] - 0s 2ms/step - loss: 34993.1836\n",
      "Epoch 87/100\n",
      "250/250 [==============================] - 0s 2ms/step - loss: 35913.4531\n",
      "Epoch 88/100\n",
      "250/250 [==============================] - 0s 2ms/step - loss: 35103.2773\n",
      "Epoch 89/100\n",
      "250/250 [==============================] - 0s 2ms/step - loss: 34870.6211\n",
      "Epoch 90/100\n",
      "250/250 [==============================] - 0s 2ms/step - loss: 34957.4102\n",
      "Epoch 91/100\n",
      "250/250 [==============================] - 0s 2ms/step - loss: 37005.9648\n",
      "Epoch 92/100\n",
      "250/250 [==============================] - 0s 2ms/step - loss: 35511.3750\n",
      "Epoch 93/100\n",
      "250/250 [==============================] - 0s 2ms/step - loss: 34634.1562\n",
      "Epoch 94/100\n",
      "250/250 [==============================] - 0s 2ms/step - loss: 34793.4648\n",
      "Epoch 95/100\n",
      "250/250 [==============================] - 0s 2ms/step - loss: 35050.8789\n",
      "Epoch 96/100\n",
      "250/250 [==============================] - 0s 2ms/step - loss: 35352.9727\n",
      "Epoch 97/100\n",
      "250/250 [==============================] - 0s 2ms/step - loss: 33976.9258\n",
      "Epoch 98/100\n",
      "250/250 [==============================] - 0s 2ms/step - loss: 34985.3398\n",
      "Epoch 99/100\n",
      "250/250 [==============================] - 0s 2ms/step - loss: 34639.6367\n",
      "Epoch 100/100\n",
      "250/250 [==============================] - 0s 2ms/step - loss: 34173.2500\n"
     ]
    },
    {
     "data": {
      "text/plain": [
       "<tensorflow.python.keras.callbacks.History at 0x1a22fdba5f8>"
      ]
     },
     "execution_count": 233,
     "metadata": {},
     "output_type": "execute_result"
    }
   ],
   "source": [
    "nn_model.fit(\n",
    "    x_train,y_train,\n",
    "    epochs=100\n",
    ")"
   ]
  },
  {
   "cell_type": "code",
   "execution_count": 234,
   "metadata": {},
   "outputs": [],
   "source": [
    "y_train_pred = nn_model.predict(x_train)"
   ]
  },
  {
   "cell_type": "code",
   "execution_count": 235,
   "metadata": {},
   "outputs": [],
   "source": [
    "r2__ = r2_score(y_train, y_train_pred)"
   ]
  },
  {
   "cell_type": "code",
   "execution_count": 236,
   "metadata": {},
   "outputs": [
    {
     "data": {
      "text/plain": [
       "0.550358021071333"
      ]
     },
     "execution_count": 236,
     "metadata": {},
     "output_type": "execute_result"
    }
   ],
   "source": [
    "r2__"
   ]
  },
  {
   "cell_type": "code",
   "execution_count": 237,
   "metadata": {},
   "outputs": [
    {
     "data": {
      "text/plain": [
       "111764.15"
      ]
     },
     "execution_count": 237,
     "metadata": {},
     "output_type": "execute_result"
    }
   ],
   "source": [
    "mse(y_train, y_train_pred).numpy()"
   ]
  },
  {
   "cell_type": "code",
   "execution_count": null,
   "metadata": {},
   "outputs": [],
   "source": []
  }
 ],
 "metadata": {
  "kernelspec": {
   "display_name": "Python 3",
   "language": "python",
   "name": "python3"
  },
  "language_info": {
   "codemirror_mode": {
    "name": "ipython",
    "version": 3
   },
   "file_extension": ".py",
   "mimetype": "text/x-python",
   "name": "python",
   "nbconvert_exporter": "python",
   "pygments_lexer": "ipython3",
   "version": "3.7.0"
  }
 },
 "nbformat": 4,
 "nbformat_minor": 2
}
